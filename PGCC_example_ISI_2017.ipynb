{
 "cells": [
  {
   "cell_type": "markdown",
   "metadata": {},
   "source": [
    "# A Python (v3) script to Parse, Group, Clean and Cluster user queries from digital catalogues, using Piwik log files."
   ]
  },
  {
   "cell_type": "code",
   "execution_count": 8,
   "metadata": {
    "collapsed": true
   },
   "outputs": [],
   "source": [
    "# !/usr/bin/env python\n",
    "# -*- coding: utf-8 -*-\n",
    "\n",
    "# This code parses PIWIK log files (piwik.org) to extract user queries from digital catalogues. \n",
    "\n",
    "# Example of input data: \n",
    "#A4EB7F66122DFB4B\t649796\t2016-01-01 01:00:41\tsearch.arch.be/nl/zoeken-naar-archieven/zoekresultaat/index/index/zoekterm/antwerpen/findaidstatus/verified-complete-draft/dao/1/lang/nl\n",
    "\n",
    "# Written in the context of the MADDLAIN project (www.maddlain.iminds.be/en/home/)\n",
    "\n",
    "# Anne Chardonnens - anchardo@ulb.ac.be - http://homepages.ulb.ac.be/~anchardo\n",
    "# Simon Hengchen - shengche@ulb.ac.be - http://homepages.ulb.ac.be/~shengche\n",
    "# Raphaël Hubain - rhubain@gmail.com  \n"
   ]
  },
  {
   "cell_type": "code",
   "execution_count": 3,
   "metadata": {
    "collapsed": false
   },
   "outputs": [],
   "source": [
    "from time import sleep \n",
    "import sys\n",
    "\n",
    "class Counter():\n",
    "    def __init__(self, array, position = 0):\n",
    "        self.length = len(array)\n",
    "        self.position = position\n",
    "        self.printpercent = 0\n",
    "    \n",
    "    def loop(self):\n",
    "        self.position += 1\n",
    "        percent = self.position / self.length\n",
    "        percent = int (percent * 100)\n",
    "        if self.printpercent != percent:\n",
    "            self.printpercent = percent\n",
    "            print(\"%s %%\" % str(self.printpercent))"
   ]
  },
  {
   "cell_type": "markdown",
   "metadata": {},
   "source": [
    "# A) PARSING (1/2)"
   ]
  },
  {
   "cell_type": "code",
   "execution_count": 4,
   "metadata": {
    "collapsed": true
   },
   "outputs": [],
   "source": [
    "import pandas as pd  #pandas = python data analysis library: http://pandas.pydata.org/\n",
    "from re import search, match"
   ]
  },
  {
   "cell_type": "code",
   "execution_count": 5,
   "metadata": {
    "collapsed": false
   },
   "outputs": [],
   "source": [
    "#functions to precise where are the keywords we want to parse\n",
    "\n",
    "def getv(url, m):\n",
    "    #regular expression to isolate and keep only the words entered by the end user\n",
    "    reg = '.*\\/' + m + '\\/([a-z_A-Zéèèêàâäüùôöç0-9+ \\'\\.\\-%,]*)\\/.*'   \n",
    "    ismatch = match(reg, url) #reg will be defined below\n",
    "    if ismatch:\n",
    "        value = ismatch.group(1)\n",
    "    else:\n",
    "        value = 'NaN'\n",
    "    return value\n",
    "\n",
    "def get_mdic(url):\n",
    "    mdic = {}\n",
    "    #other metadata composing the URL will also be parsed\n",
    "    mlist = ['zoekterm','beginjaar','eindjaar','rubriek','eadid','findaidstatus','dao','lang',\n",
    "                     'inventarisnr','level','scan-index','foto','page']\n",
    "    for m in mlist:\n",
    "        k = m\n",
    "        v = getv(url, m)\n",
    "        mdic[k] = v\n",
    "    return mdic"
   ]
  },
  {
   "cell_type": "code",
   "execution_count": 6,
   "metadata": {
    "collapsed": false,
    "scrolled": false
   },
   "outputs": [],
   "source": [
    "#parsing function\n",
    "def parse(din):\n",
    "    din.columns = ['visitorID','visitID','time','url'] #the input file contains 4 columns: the visitor ID, the visit ID, the timestamp of the visit and the URL  \n",
    "    sl = []\n",
    "    c = Counter(din)\n",
    "    for i, r in din.iterrows():\n",
    "        c.loop()\n",
    "        rdic = {}\n",
    "        reg = '.*\\/zoekterm\\/.*'  #each user query is preceded by \".../zoekterm/\" (which means keyword in dutch)\n",
    "        if search(reg,r.url):\n",
    "            rdic = get_mdic(r.url)\n",
    "            rdic['visitorID'] = r.visitorID\n",
    "            rdic['visitID'] = r.visitID\n",
    "            rdic['time'] =  r.time\n",
    "            rdic['url'] =  r.url\n",
    "            sl.append(pd.Series(rdic))\n",
    "    dout = pd.DataFrame(sl)\n",
    "    return dout"
   ]
  },
  {
   "cell_type": "markdown",
   "metadata": {},
   "source": [
    "### URL Decoding"
   ]
  },
  {
   "cell_type": "code",
   "execution_count": 7,
   "metadata": {
    "collapsed": false,
    "scrolled": true
   },
   "outputs": [
    {
     "ename": "FileNotFoundError",
     "evalue": "[Errno 2] No such file or directory: '/output/PGCC_input_6months.txt'",
     "output_type": "error",
     "traceback": [
      "\u001b[0;31m---------------------------------------------------------------------------\u001b[0m",
      "\u001b[0;31mFileNotFoundError\u001b[0m                         Traceback (most recent call last)",
      "\u001b[0;32m<ipython-input-7-aef44843a20c>\u001b[0m in \u001b[0;36m<module>\u001b[0;34m()\u001b[0m\n\u001b[1;32m      2\u001b[0m \u001b[0;32mimport\u001b[0m \u001b[0mcodecs\u001b[0m\u001b[0;34m\u001b[0m\u001b[0m\n\u001b[1;32m      3\u001b[0m \u001b[0;32mimport\u001b[0m \u001b[0mio\u001b[0m\u001b[0;34m\u001b[0m\u001b[0m\n\u001b[0;32m----> 4\u001b[0;31m \u001b[0mf\u001b[0m \u001b[0;34m=\u001b[0m \u001b[0mopen\u001b[0m\u001b[0;34m(\u001b[0m\u001b[0;34m\"/output/PGCC_input_6months.txt\"\u001b[0m\u001b[0;34m,\u001b[0m\u001b[0;34m\"r\"\u001b[0m\u001b[0;34m)\u001b[0m\u001b[0;34m\u001b[0m\u001b[0m\n\u001b[0m\u001b[1;32m      5\u001b[0m \u001b[0;31m#input file, you can download it here: https://github.com/anchardo/PGCC\u001b[0m\u001b[0;34m\u001b[0m\u001b[0;34m\u001b[0m\u001b[0m\n\u001b[1;32m      6\u001b[0m \u001b[0mf\u001b[0m \u001b[0;34m=\u001b[0m \u001b[0mf\u001b[0m\u001b[0;34m.\u001b[0m\u001b[0mreadlines\u001b[0m\u001b[0;34m(\u001b[0m\u001b[0;34m)\u001b[0m\u001b[0;34m\u001b[0m\u001b[0m\n",
      "\u001b[0;31mFileNotFoundError\u001b[0m: [Errno 2] No such file or directory: '/output/PGCC_input_6months.txt'"
     ]
    }
   ],
   "source": [
    "#urllib.parse could also be envisaged, but didn't work well in this context\n",
    "import codecs \n",
    "import io\n",
    "f = open(\"/output/PGCC_input_6months.txt\",\"r\") \n",
    "#input file, you can download it here: https://github.com/anchardo/PGCC \n",
    "f = f.readlines()\n",
    "x = io.open(\"/output/PGCC_input_6months_ok.txt\",\"w\",encoding=\"utf8\")\n",
    "for line in f:\n",
    "    line = line.replace(\"Ã©\",\"e\") \n",
    "    line = line.replace(\"Ã¨\",\"e\")\n",
    "    line = line.replace(\"Ã§\",\"ç\")\n",
    "    x.write(line)"
   ]
  },
  {
   "cell_type": "markdown",
   "metadata": {},
   "source": [
    "## Read the csv file and return a dataframe"
   ]
  },
  {
   "cell_type": "code",
   "execution_count": 5,
   "metadata": {
    "collapsed": false
   },
   "outputs": [],
   "source": [
    "f = '/output/PGCC_input_6months_ok.txt.txt'\n",
    "din = pd.read_csv(f, sep = '\\t', header=None) #cf. pandas http://pandas.pydata.org/\n",
    "din.columns = ['visitorID','visitID','time','url']"
   ]
  },
  {
   "cell_type": "code",
   "execution_count": 6,
   "metadata": {
    "collapsed": false
   },
   "outputs": [
    {
     "data": {
      "text/plain": [
       "190785"
      ]
     },
     "execution_count": 6,
     "metadata": {},
     "output_type": "execute_result"
    }
   ],
   "source": [
    "len(din) #number of lines (190 785)"
   ]
  },
  {
   "cell_type": "code",
   "execution_count": 7,
   "metadata": {
    "collapsed": false
   },
   "outputs": [
    {
     "data": {
      "text/html": [
       "<div>\n",
       "<table border=\"1\" class=\"dataframe\">\n",
       "  <thead>\n",
       "    <tr style=\"text-align: right;\">\n",
       "      <th></th>\n",
       "      <th>visitorID</th>\n",
       "      <th>visitID</th>\n",
       "      <th>time</th>\n",
       "      <th>url</th>\n",
       "    </tr>\n",
       "  </thead>\n",
       "  <tbody>\n",
       "    <tr>\n",
       "      <th>0</th>\n",
       "      <td>A86A2AC06F9B8292</td>\n",
       "      <td>649717</td>\n",
       "      <td>2016-01-01 01:28:28</td>\n",
       "      <td>search.arch.be/nl/zoeken-naar-archieven/zoekre...</td>\n",
       "    </tr>\n",
       "    <tr>\n",
       "      <th>1</th>\n",
       "      <td>A86A2AC06F9B8292</td>\n",
       "      <td>649717</td>\n",
       "      <td>2016-01-01 01:29:23</td>\n",
       "      <td>search.arch.be/nl/zoeken-naar-archieven/zoekre...</td>\n",
       "    </tr>\n",
       "    <tr>\n",
       "      <th>2</th>\n",
       "      <td>A86A2AC06F9B8292</td>\n",
       "      <td>649717</td>\n",
       "      <td>2016-01-01 01:30:38</td>\n",
       "      <td>search.arch.be/nl/zoeken-naar-archieven/zoekre...</td>\n",
       "    </tr>\n",
       "    <tr>\n",
       "      <th>3</th>\n",
       "      <td>AF8E50DF2C7A1B33</td>\n",
       "      <td>649730</td>\n",
       "      <td>2016-01-01 00:00:29</td>\n",
       "      <td>search.arch.be/fr/rechercher-des-archives/resu...</td>\n",
       "    </tr>\n",
       "    <tr>\n",
       "      <th>4</th>\n",
       "      <td>A7C63C026A0FB429</td>\n",
       "      <td>649779</td>\n",
       "      <td>2016-01-01 00:46:08</td>\n",
       "      <td>search.arch.be/nl/zoeken-naar-archieven/zoekre...</td>\n",
       "    </tr>\n",
       "  </tbody>\n",
       "</table>\n",
       "</div>"
      ],
      "text/plain": [
       "          visitorID  visitID                 time  \\\n",
       "0  A86A2AC06F9B8292   649717  2016-01-01 01:28:28   \n",
       "1  A86A2AC06F9B8292   649717  2016-01-01 01:29:23   \n",
       "2  A86A2AC06F9B8292   649717  2016-01-01 01:30:38   \n",
       "3  AF8E50DF2C7A1B33   649730  2016-01-01 00:00:29   \n",
       "4  A7C63C026A0FB429   649779  2016-01-01 00:46:08   \n",
       "\n",
       "                                                 url  \n",
       "0  search.arch.be/nl/zoeken-naar-archieven/zoekre...  \n",
       "1  search.arch.be/nl/zoeken-naar-archieven/zoekre...  \n",
       "2  search.arch.be/nl/zoeken-naar-archieven/zoekre...  \n",
       "3  search.arch.be/fr/rechercher-des-archives/resu...  \n",
       "4  search.arch.be/nl/zoeken-naar-archieven/zoekre...  "
      ]
     },
     "execution_count": 7,
     "metadata": {},
     "output_type": "execute_result"
    }
   ],
   "source": [
    "din.head() #check if everything is ok"
   ]
  },
  {
   "cell_type": "markdown",
   "metadata": {},
   "source": [
    "### Check the number of visits & visitors"
   ]
  },
  {
   "cell_type": "code",
   "execution_count": 8,
   "metadata": {
    "collapsed": false
   },
   "outputs": [
    {
     "data": {
      "text/plain": [
       "24778"
      ]
     },
     "execution_count": 8,
     "metadata": {},
     "output_type": "execute_result"
    }
   ],
   "source": [
    "len(set(din.visitorID.tolist())) #number of visitors"
   ]
  },
  {
   "cell_type": "code",
   "execution_count": 9,
   "metadata": {
    "collapsed": false
   },
   "outputs": [
    {
     "data": {
      "text/plain": [
       "44245"
      ]
     },
     "execution_count": 9,
     "metadata": {},
     "output_type": "execute_result"
    }
   ],
   "source": [
    "len(set(din.visitID.tolist())) #number of visits"
   ]
  },
  {
   "cell_type": "code",
   "execution_count": 10,
   "metadata": {
    "collapsed": false
   },
   "outputs": [],
   "source": [
    "din.to_csv('output/A_first_parsing.csv') #export the first parsed file"
   ]
  },
  {
   "cell_type": "markdown",
   "metadata": {},
   "source": [
    "# A) PARSING (2/2)"
   ]
  },
  {
   "cell_type": "code",
   "execution_count": 11,
   "metadata": {
    "collapsed": false
   },
   "outputs": [
    {
     "name": "stdout",
     "output_type": "stream",
     "text": [
      "1 %\n",
      "2 %\n",
      "3 %\n",
      "4 %\n",
      "5 %\n",
      "6 %\n",
      "7 %\n",
      "8 %\n",
      "9 %\n",
      "10 %\n",
      "11 %\n",
      "12 %\n",
      "13 %\n",
      "14 %\n",
      "15 %\n",
      "16 %\n",
      "17 %\n",
      "18 %\n",
      "19 %\n",
      "20 %\n",
      "21 %\n",
      "22 %\n",
      "23 %\n",
      "24 %\n",
      "25 %\n",
      "26 %\n",
      "27 %\n",
      "28 %\n",
      "29 %\n",
      "30 %\n",
      "31 %\n",
      "32 %\n",
      "33 %\n",
      "34 %\n",
      "35 %\n",
      "36 %\n",
      "37 %\n",
      "38 %\n",
      "39 %\n",
      "40 %\n",
      "41 %\n",
      "42 %\n",
      "43 %\n",
      "44 %\n",
      "45 %\n",
      "46 %\n",
      "47 %\n",
      "48 %\n",
      "49 %\n",
      "50 %\n",
      "51 %\n",
      "52 %\n",
      "53 %\n",
      "54 %\n",
      "55 %\n",
      "56 %\n",
      "57 %\n",
      "58 %\n",
      "59 %\n",
      "60 %\n",
      "61 %\n",
      "62 %\n",
      "63 %\n",
      "64 %\n",
      "65 %\n",
      "66 %\n",
      "67 %\n",
      "68 %\n",
      "69 %\n",
      "70 %\n",
      "71 %\n",
      "72 %\n",
      "73 %\n",
      "74 %\n",
      "75 %\n",
      "76 %\n",
      "77 %\n",
      "78 %\n",
      "79 %\n",
      "80 %\n",
      "81 %\n",
      "82 %\n",
      "83 %\n",
      "84 %\n",
      "85 %\n",
      "86 %\n",
      "87 %\n",
      "88 %\n",
      "89 %\n",
      "90 %\n",
      "91 %\n",
      "92 %\n",
      "93 %\n",
      "94 %\n",
      "95 %\n",
      "96 %\n",
      "97 %\n",
      "98 %\n",
      "99 %\n",
      "100 %\n"
     ]
    }
   ],
   "source": [
    "dout = parse(din) #parsing metadata and user queries, can takes some time\n",
    "#you can follow the progression through the percentages "
   ]
  },
  {
   "cell_type": "code",
   "execution_count": 22,
   "metadata": {
    "collapsed": false
   },
   "outputs": [
    {
     "data": {
      "text/html": [
       "<div>\n",
       "<table border=\"1\" class=\"dataframe\">\n",
       "  <thead>\n",
       "    <tr style=\"text-align: right;\">\n",
       "      <th></th>\n",
       "      <th>beginjaar</th>\n",
       "      <th>dao</th>\n",
       "      <th>eadid</th>\n",
       "      <th>eindjaar</th>\n",
       "      <th>findaidstatus</th>\n",
       "      <th>foto</th>\n",
       "      <th>inventarisnr</th>\n",
       "      <th>lang</th>\n",
       "      <th>level</th>\n",
       "      <th>page</th>\n",
       "      <th>rubriek</th>\n",
       "      <th>scan-index</th>\n",
       "      <th>time</th>\n",
       "      <th>url</th>\n",
       "      <th>visitID</th>\n",
       "      <th>visitorID</th>\n",
       "      <th>zoekterm</th>\n",
       "    </tr>\n",
       "  </thead>\n",
       "  <tbody>\n",
       "    <tr>\n",
       "      <th>0</th>\n",
       "      <td>NaN</td>\n",
       "      <td>NaN</td>\n",
       "      <td>NaN</td>\n",
       "      <td>NaN</td>\n",
       "      <td>NaN</td>\n",
       "      <td>NaN</td>\n",
       "      <td>NaN</td>\n",
       "      <td>NaN</td>\n",
       "      <td>NaN</td>\n",
       "      <td>NaN</td>\n",
       "      <td>NaN</td>\n",
       "      <td>NaN</td>\n",
       "      <td>2016-01-01 01:28:28</td>\n",
       "      <td>search.arch.be/nl/zoeken-naar-archieven/zoekre...</td>\n",
       "      <td>649717</td>\n",
       "      <td>A86A2AC06F9B8292</td>\n",
       "      <td>gotem</td>\n",
       "    </tr>\n",
       "    <tr>\n",
       "      <th>1</th>\n",
       "      <td>NaN</td>\n",
       "      <td>NaN</td>\n",
       "      <td>NaN</td>\n",
       "      <td>NaN</td>\n",
       "      <td>NaN</td>\n",
       "      <td>NaN</td>\n",
       "      <td>NaN</td>\n",
       "      <td>NaN</td>\n",
       "      <td>NaN</td>\n",
       "      <td>NaN</td>\n",
       "      <td>NaN</td>\n",
       "      <td>NaN</td>\n",
       "      <td>2016-01-01 01:29:23</td>\n",
       "      <td>search.arch.be/nl/zoeken-naar-archieven/zoekre...</td>\n",
       "      <td>649717</td>\n",
       "      <td>A86A2AC06F9B8292</td>\n",
       "      <td>gotem</td>\n",
       "    </tr>\n",
       "    <tr>\n",
       "      <th>2</th>\n",
       "      <td>NaN</td>\n",
       "      <td>NaN</td>\n",
       "      <td>NaN</td>\n",
       "      <td>NaN</td>\n",
       "      <td>NaN</td>\n",
       "      <td>NaN</td>\n",
       "      <td>NaN</td>\n",
       "      <td>NaN</td>\n",
       "      <td>NaN</td>\n",
       "      <td>NaN</td>\n",
       "      <td>NaN</td>\n",
       "      <td>NaN</td>\n",
       "      <td>2016-01-01 01:30:38</td>\n",
       "      <td>search.arch.be/nl/zoeken-naar-archieven/zoekre...</td>\n",
       "      <td>649717</td>\n",
       "      <td>A86A2AC06F9B8292</td>\n",
       "      <td>gotem</td>\n",
       "    </tr>\n",
       "    <tr>\n",
       "      <th>3</th>\n",
       "      <td>NaN</td>\n",
       "      <td>1</td>\n",
       "      <td>NaN</td>\n",
       "      <td>NaN</td>\n",
       "      <td>NaN</td>\n",
       "      <td>NaN</td>\n",
       "      <td>NaN</td>\n",
       "      <td>NaN</td>\n",
       "      <td>NaN</td>\n",
       "      <td>NaN</td>\n",
       "      <td>NaN</td>\n",
       "      <td>NaN</td>\n",
       "      <td>2016-01-01 00:00:29</td>\n",
       "      <td>search.arch.be/fr/rechercher-des-archives/resu...</td>\n",
       "      <td>649730</td>\n",
       "      <td>AF8E50DF2C7A1B33</td>\n",
       "      <td>couthuin</td>\n",
       "    </tr>\n",
       "  </tbody>\n",
       "</table>\n",
       "</div>"
      ],
      "text/plain": [
       "  beginjaar  dao eadid eindjaar findaidstatus foto inventarisnr lang level  \\\n",
       "0       NaN  NaN   NaN      NaN           NaN  NaN          NaN  NaN   NaN   \n",
       "1       NaN  NaN   NaN      NaN           NaN  NaN          NaN  NaN   NaN   \n",
       "2       NaN  NaN   NaN      NaN           NaN  NaN          NaN  NaN   NaN   \n",
       "3       NaN    1   NaN      NaN           NaN  NaN          NaN  NaN   NaN   \n",
       "\n",
       "  page rubriek scan-index                 time  \\\n",
       "0  NaN     NaN        NaN  2016-01-01 01:28:28   \n",
       "1  NaN     NaN        NaN  2016-01-01 01:29:23   \n",
       "2  NaN     NaN        NaN  2016-01-01 01:30:38   \n",
       "3  NaN     NaN        NaN  2016-01-01 00:00:29   \n",
       "\n",
       "                                                 url  visitID  \\\n",
       "0  search.arch.be/nl/zoeken-naar-archieven/zoekre...   649717   \n",
       "1  search.arch.be/nl/zoeken-naar-archieven/zoekre...   649717   \n",
       "2  search.arch.be/nl/zoeken-naar-archieven/zoekre...   649717   \n",
       "3  search.arch.be/fr/rechercher-des-archives/resu...   649730   \n",
       "\n",
       "          visitorID  zoekterm  \n",
       "0  A86A2AC06F9B8292     gotem  \n",
       "1  A86A2AC06F9B8292     gotem  \n",
       "2  A86A2AC06F9B8292     gotem  \n",
       "3  AF8E50DF2C7A1B33  couthuin  "
      ]
     },
     "execution_count": 22,
     "metadata": {},
     "output_type": "execute_result"
    }
   ],
   "source": [
    "dout.head(4) #check if everything seems fine, there are a lot of \"NaN\" in the first columns (metadata), it's normal!"
   ]
  },
  {
   "cell_type": "code",
   "execution_count": 15,
   "metadata": {
    "collapsed": true
   },
   "outputs": [],
   "source": [
    "dout.to_csv('output/A_second_parsing.csv') #export output file"
   ]
  },
  {
   "cell_type": "markdown",
   "metadata": {},
   "source": [
    "# 2_queriesVisits_raw.csv"
   ]
  },
  {
   "cell_type": "markdown",
   "metadata": {},
   "source": [
    "### Check count of visitors / visits"
   ]
  },
  {
   "cell_type": "code",
   "execution_count": 140,
   "metadata": {
    "collapsed": false
   },
   "outputs": [
    {
     "ename": "TypeError",
     "evalue": "'list' object is not callable",
     "output_type": "error",
     "traceback": [
      "\u001b[0;31m---------------------------------------------------------------------------\u001b[0m",
      "\u001b[0;31mTypeError\u001b[0m                                 Traceback (most recent call last)",
      "\u001b[0;32m<ipython-input-140-1c598127355d>\u001b[0m in \u001b[0;36m<module>\u001b[0;34m()\u001b[0m\n\u001b[0;32m----> 1\u001b[0;31m \u001b[0mlen\u001b[0m\u001b[0;34m(\u001b[0m\u001b[0mlist\u001b[0m\u001b[0;34m(\u001b[0m\u001b[0mset\u001b[0m\u001b[0;34m(\u001b[0m\u001b[0md\u001b[0m\u001b[0;34m.\u001b[0m\u001b[0mvisitID\u001b[0m\u001b[0;34m.\u001b[0m\u001b[0mtolist\u001b[0m\u001b[0;34m(\u001b[0m\u001b[0;34m)\u001b[0m\u001b[0;34m)\u001b[0m\u001b[0;34m)\u001b[0m\u001b[0;34m)\u001b[0m\u001b[0;34m\u001b[0m\u001b[0m\n\u001b[0m",
      "\u001b[0;31mTypeError\u001b[0m: 'list' object is not callable"
     ]
    }
   ],
   "source": [
    "len(list(set(dout.visitID.tolist())))"
   ]
  },
  {
   "cell_type": "code",
   "execution_count": 29,
   "metadata": {
    "collapsed": false
   },
   "outputs": [
    {
     "data": {
      "text/plain": [
       "24778"
      ]
     },
     "execution_count": 29,
     "metadata": {},
     "output_type": "execute_result"
    }
   ],
   "source": [
    "len(list(set(dout.visitorID.tolist())))"
   ]
  },
  {
   "cell_type": "markdown",
   "metadata": {
    "collapsed": true
   },
   "source": [
    "# B) GROUPING"
   ]
  },
  {
   "cell_type": "code",
   "execution_count": 141,
   "metadata": {
    "collapsed": false
   },
   "outputs": [],
   "source": [
    "dout = dout[['visitID','zoekterm','time']] # time is kind of an HTTP request identifier"
   ]
  },
  {
   "cell_type": "code",
   "execution_count": 142,
   "metadata": {
    "collapsed": false
   },
   "outputs": [
    {
     "data": {
      "text/html": [
       "<div>\n",
       "<table border=\"1\" class=\"dataframe\">\n",
       "  <thead>\n",
       "    <tr style=\"text-align: right;\">\n",
       "      <th></th>\n",
       "      <th>visitID</th>\n",
       "      <th>zoekterm</th>\n",
       "      <th>time</th>\n",
       "    </tr>\n",
       "  </thead>\n",
       "  <tbody>\n",
       "    <tr>\n",
       "      <th>0</th>\n",
       "      <td>649717</td>\n",
       "      <td>gotem</td>\n",
       "      <td>2016-01-01 01:28:28</td>\n",
       "    </tr>\n",
       "    <tr>\n",
       "      <th>1</th>\n",
       "      <td>649717</td>\n",
       "      <td>gotem</td>\n",
       "      <td>2016-01-01 01:29:23</td>\n",
       "    </tr>\n",
       "    <tr>\n",
       "      <th>2</th>\n",
       "      <td>649717</td>\n",
       "      <td>gotem</td>\n",
       "      <td>2016-01-01 01:30:38</td>\n",
       "    </tr>\n",
       "    <tr>\n",
       "      <th>3</th>\n",
       "      <td>649730</td>\n",
       "      <td>couthuin</td>\n",
       "      <td>2016-01-01 00:00:29</td>\n",
       "    </tr>\n",
       "    <tr>\n",
       "      <th>4</th>\n",
       "      <td>649779</td>\n",
       "      <td>dreesens</td>\n",
       "      <td>2016-01-01 00:46:08</td>\n",
       "    </tr>\n",
       "  </tbody>\n",
       "</table>\n",
       "</div>"
      ],
      "text/plain": [
       "  visitID  zoekterm                 time\n",
       "0  649717     gotem  2016-01-01 01:28:28\n",
       "1  649717     gotem  2016-01-01 01:29:23\n",
       "2  649717     gotem  2016-01-01 01:30:38\n",
       "3  649730  couthuin  2016-01-01 00:00:29\n",
       "4  649779  dreesens  2016-01-01 00:46:08"
      ]
     },
     "execution_count": 142,
     "metadata": {},
     "output_type": "execute_result"
    }
   ],
   "source": [
    "dout.head() #at this stage, you should only have 3 columns: visitID, zoekterm (keyword), time"
   ]
  },
  {
   "cell_type": "markdown",
   "metadata": {},
   "source": [
    "### Count of similar entries by column: zoekterm (queries), time, visit"
   ]
  },
  {
   "cell_type": "code",
   "execution_count": 144,
   "metadata": {
    "collapsed": false
   },
   "outputs": [
    {
     "ename": "TypeError",
     "evalue": "'list' object is not callable",
     "output_type": "error",
     "traceback": [
      "\u001b[0;31m---------------------------------------------------------------------------\u001b[0m",
      "\u001b[0;31mTypeError\u001b[0m                                 Traceback (most recent call last)",
      "\u001b[0;32m<ipython-input-144-22f6ce763407>\u001b[0m in \u001b[0;36m<module>\u001b[0;34m()\u001b[0m\n\u001b[0;32m----> 1\u001b[0;31m \u001b[0mlen\u001b[0m\u001b[0;34m(\u001b[0m\u001b[0mlist\u001b[0m\u001b[0;34m(\u001b[0m\u001b[0mset\u001b[0m\u001b[0;34m(\u001b[0m\u001b[0mdout\u001b[0m\u001b[0;34m.\u001b[0m\u001b[0mzoekterm\u001b[0m\u001b[0;34m.\u001b[0m\u001b[0mtolist\u001b[0m\u001b[0;34m(\u001b[0m\u001b[0;34m)\u001b[0m\u001b[0;34m)\u001b[0m\u001b[0;34m)\u001b[0m\u001b[0;34m)\u001b[0m\u001b[0;34m\u001b[0m\u001b[0m\n\u001b[0m",
      "\u001b[0;31mTypeError\u001b[0m: 'list' object is not callable"
     ]
    }
   ],
   "source": [
    "len(list(set(dout.zoekterm.tolist())))"
   ]
  },
  {
   "cell_type": "code",
   "execution_count": 34,
   "metadata": {
    "collapsed": false
   },
   "outputs": [
    {
     "data": {
      "text/plain": [
       "188127"
      ]
     },
     "execution_count": 34,
     "metadata": {},
     "output_type": "execute_result"
    }
   ],
   "source": [
    "len(list(set(dout.time.tolist())))"
   ]
  },
  {
   "cell_type": "code",
   "execution_count": 35,
   "metadata": {
    "collapsed": false
   },
   "outputs": [
    {
     "data": {
      "text/plain": [
       "44245"
      ]
     },
     "execution_count": 35,
     "metadata": {},
     "output_type": "execute_result"
    }
   ],
   "source": [
    "len(list(set(dout.visitID.tolist())))"
   ]
  },
  {
   "cell_type": "code",
   "execution_count": 39,
   "metadata": {
    "collapsed": false
   },
   "outputs": [
    {
     "data": {
      "text/plain": [
       "190728"
      ]
     },
     "execution_count": 39,
     "metadata": {},
     "output_type": "execute_result"
    }
   ],
   "source": [
    "len(dout) #length of file"
   ]
  },
  {
   "cell_type": "markdown",
   "metadata": {},
   "source": [
    "### Groupby"
   ]
  },
  {
   "cell_type": "code",
   "execution_count": null,
   "metadata": {
    "collapsed": true
   },
   "outputs": [],
   "source": [
    "# questions? cf. Pandas documentation: http://pandas.pydata.org/pandas-docs/stable/groupby.html "
   ]
  },
  {
   "cell_type": "code",
   "execution_count": 128,
   "metadata": {
    "collapsed": false
   },
   "outputs": [
    {
     "ename": "ValueError",
     "evalue": "Grouper for 'visitID' not 1-dimensional",
     "output_type": "error",
     "traceback": [
      "\u001b[0;31m---------------------------------------------------------------------------\u001b[0m",
      "\u001b[0;31mValueError\u001b[0m                                Traceback (most recent call last)",
      "\u001b[0;32m<ipython-input-128-6f59dae31b54>\u001b[0m in \u001b[0;36m<module>\u001b[0;34m()\u001b[0m\n\u001b[0;32m----> 1\u001b[0;31m \u001b[0md\u001b[0m \u001b[0;34m=\u001b[0m \u001b[0md\u001b[0m\u001b[0;34m.\u001b[0m\u001b[0mgroupby\u001b[0m\u001b[0;34m(\u001b[0m\u001b[0;34m[\u001b[0m\u001b[0;34m'visitID'\u001b[0m\u001b[0;34m,\u001b[0m\u001b[0;34m'zoekterm'\u001b[0m\u001b[0;34m]\u001b[0m\u001b[0;34m)\u001b[0m\u001b[0;34m.\u001b[0m\u001b[0mcount\u001b[0m\u001b[0;34m(\u001b[0m\u001b[0;34m)\u001b[0m\u001b[0;34m\u001b[0m\u001b[0m\n\u001b[0m",
      "\u001b[0;32m/Applications/anaconda/lib/python3.5/site-packages/pandas/core/generic.py\u001b[0m in \u001b[0;36mgroupby\u001b[0;34m(self, by, axis, level, as_index, sort, group_keys, squeeze)\u001b[0m\n\u001b[1;32m   3434\u001b[0m         \u001b[0maxis\u001b[0m \u001b[0;34m=\u001b[0m \u001b[0mself\u001b[0m\u001b[0;34m.\u001b[0m\u001b[0m_get_axis_number\u001b[0m\u001b[0;34m(\u001b[0m\u001b[0maxis\u001b[0m\u001b[0;34m)\u001b[0m\u001b[0;34m\u001b[0m\u001b[0m\n\u001b[1;32m   3435\u001b[0m         return groupby(self, by=by, axis=axis, level=level, as_index=as_index,\n\u001b[0;32m-> 3436\u001b[0;31m                        sort=sort, group_keys=group_keys, squeeze=squeeze)\n\u001b[0m\u001b[1;32m   3437\u001b[0m \u001b[0;34m\u001b[0m\u001b[0m\n\u001b[1;32m   3438\u001b[0m     \u001b[0;32mdef\u001b[0m \u001b[0masfreq\u001b[0m\u001b[0;34m(\u001b[0m\u001b[0mself\u001b[0m\u001b[0;34m,\u001b[0m \u001b[0mfreq\u001b[0m\u001b[0;34m,\u001b[0m \u001b[0mmethod\u001b[0m\u001b[0;34m=\u001b[0m\u001b[0;32mNone\u001b[0m\u001b[0;34m,\u001b[0m \u001b[0mhow\u001b[0m\u001b[0;34m=\u001b[0m\u001b[0;32mNone\u001b[0m\u001b[0;34m,\u001b[0m \u001b[0mnormalize\u001b[0m\u001b[0;34m=\u001b[0m\u001b[0;32mFalse\u001b[0m\u001b[0;34m)\u001b[0m\u001b[0;34m:\u001b[0m\u001b[0;34m\u001b[0m\u001b[0m\n",
      "\u001b[0;32m/Applications/anaconda/lib/python3.5/site-packages/pandas/core/groupby.py\u001b[0m in \u001b[0;36mgroupby\u001b[0;34m(obj, by, **kwds)\u001b[0m\n\u001b[1;32m   1309\u001b[0m         \u001b[0;32mraise\u001b[0m \u001b[0mTypeError\u001b[0m\u001b[0;34m(\u001b[0m\u001b[0;34m'invalid type: %s'\u001b[0m \u001b[0;34m%\u001b[0m \u001b[0mtype\u001b[0m\u001b[0;34m(\u001b[0m\u001b[0mobj\u001b[0m\u001b[0;34m)\u001b[0m\u001b[0;34m)\u001b[0m\u001b[0;34m\u001b[0m\u001b[0m\n\u001b[1;32m   1310\u001b[0m \u001b[0;34m\u001b[0m\u001b[0m\n\u001b[0;32m-> 1311\u001b[0;31m     \u001b[0;32mreturn\u001b[0m \u001b[0mklass\u001b[0m\u001b[0;34m(\u001b[0m\u001b[0mobj\u001b[0m\u001b[0;34m,\u001b[0m \u001b[0mby\u001b[0m\u001b[0;34m,\u001b[0m \u001b[0;34m**\u001b[0m\u001b[0mkwds\u001b[0m\u001b[0;34m)\u001b[0m\u001b[0;34m\u001b[0m\u001b[0m\n\u001b[0m\u001b[1;32m   1312\u001b[0m \u001b[0;34m\u001b[0m\u001b[0m\n\u001b[1;32m   1313\u001b[0m \u001b[0;34m\u001b[0m\u001b[0m\n",
      "\u001b[0;32m/Applications/anaconda/lib/python3.5/site-packages/pandas/core/groupby.py\u001b[0m in \u001b[0;36m__init__\u001b[0;34m(self, obj, keys, axis, level, grouper, exclusions, selection, as_index, sort, group_keys, squeeze)\u001b[0m\n\u001b[1;32m    416\u001b[0m         \u001b[0;32mif\u001b[0m \u001b[0mgrouper\u001b[0m \u001b[0;32mis\u001b[0m \u001b[0;32mNone\u001b[0m\u001b[0;34m:\u001b[0m\u001b[0;34m\u001b[0m\u001b[0m\n\u001b[1;32m    417\u001b[0m             grouper, exclusions, obj = _get_grouper(obj, keys, axis=axis,\n\u001b[0;32m--> 418\u001b[0;31m                                                     level=level, sort=sort)\n\u001b[0m\u001b[1;32m    419\u001b[0m \u001b[0;34m\u001b[0m\u001b[0m\n\u001b[1;32m    420\u001b[0m         \u001b[0mself\u001b[0m\u001b[0;34m.\u001b[0m\u001b[0mobj\u001b[0m \u001b[0;34m=\u001b[0m \u001b[0mobj\u001b[0m\u001b[0;34m\u001b[0m\u001b[0m\n",
      "\u001b[0;32m/Applications/anaconda/lib/python3.5/site-packages/pandas/core/groupby.py\u001b[0m in \u001b[0;36m_get_grouper\u001b[0;34m(obj, key, axis, level, sort)\u001b[0m\n\u001b[1;32m   2272\u001b[0m \u001b[0;34m\u001b[0m\u001b[0m\n\u001b[1;32m   2273\u001b[0m         ping = Grouping(group_axis, gpr, obj=obj, name=name,\n\u001b[0;32m-> 2274\u001b[0;31m                         level=level, sort=sort, in_axis=in_axis)\n\u001b[0m\u001b[1;32m   2275\u001b[0m \u001b[0;34m\u001b[0m\u001b[0m\n\u001b[1;32m   2276\u001b[0m         \u001b[0mgroupings\u001b[0m\u001b[0;34m.\u001b[0m\u001b[0mappend\u001b[0m\u001b[0;34m(\u001b[0m\u001b[0mping\u001b[0m\u001b[0;34m)\u001b[0m\u001b[0;34m\u001b[0m\u001b[0m\n",
      "\u001b[0;32m/Applications/anaconda/lib/python3.5/site-packages/pandas/core/groupby.py\u001b[0m in \u001b[0;36m__init__\u001b[0;34m(self, index, grouper, obj, name, level, sort, in_axis)\u001b[0m\n\u001b[1;32m   2096\u001b[0m                 \u001b[0;32mif\u001b[0m \u001b[0mgetattr\u001b[0m\u001b[0;34m(\u001b[0m\u001b[0mself\u001b[0m\u001b[0;34m.\u001b[0m\u001b[0mgrouper\u001b[0m\u001b[0;34m,\u001b[0m \u001b[0;34m'ndim'\u001b[0m\u001b[0;34m,\u001b[0m \u001b[0;36m1\u001b[0m\u001b[0;34m)\u001b[0m \u001b[0;34m!=\u001b[0m \u001b[0;36m1\u001b[0m\u001b[0;34m:\u001b[0m\u001b[0;34m\u001b[0m\u001b[0m\n\u001b[1;32m   2097\u001b[0m                     \u001b[0mt\u001b[0m \u001b[0;34m=\u001b[0m \u001b[0mself\u001b[0m\u001b[0;34m.\u001b[0m\u001b[0mname\u001b[0m \u001b[0;32mor\u001b[0m \u001b[0mstr\u001b[0m\u001b[0;34m(\u001b[0m\u001b[0mtype\u001b[0m\u001b[0;34m(\u001b[0m\u001b[0mself\u001b[0m\u001b[0;34m.\u001b[0m\u001b[0mgrouper\u001b[0m\u001b[0;34m)\u001b[0m\u001b[0;34m)\u001b[0m\u001b[0;34m\u001b[0m\u001b[0m\n\u001b[0;32m-> 2098\u001b[0;31m                     \u001b[0;32mraise\u001b[0m \u001b[0mValueError\u001b[0m\u001b[0;34m(\u001b[0m\u001b[0;34m\"Grouper for '%s' not 1-dimensional\"\u001b[0m \u001b[0;34m%\u001b[0m \u001b[0mt\u001b[0m\u001b[0;34m)\u001b[0m\u001b[0;34m\u001b[0m\u001b[0m\n\u001b[0m\u001b[1;32m   2099\u001b[0m                 \u001b[0mself\u001b[0m\u001b[0;34m.\u001b[0m\u001b[0mgrouper\u001b[0m \u001b[0;34m=\u001b[0m \u001b[0mself\u001b[0m\u001b[0;34m.\u001b[0m\u001b[0mindex\u001b[0m\u001b[0;34m.\u001b[0m\u001b[0mmap\u001b[0m\u001b[0;34m(\u001b[0m\u001b[0mself\u001b[0m\u001b[0;34m.\u001b[0m\u001b[0mgrouper\u001b[0m\u001b[0;34m)\u001b[0m\u001b[0;34m\u001b[0m\u001b[0m\n\u001b[1;32m   2100\u001b[0m                 if not (hasattr(self.grouper, \"__len__\") and\n",
      "\u001b[0;31mValueError\u001b[0m: Grouper for 'visitID' not 1-dimensional"
     ]
    }
   ],
   "source": [
    "dout = dout.groupby(['visitID','zoekterm']).count() #each time we have the same visitID + the same query, we'll keep the query only once"
   ]
  },
  {
   "cell_type": "code",
   "execution_count": 44,
   "metadata": {
    "collapsed": false
   },
   "outputs": [
    {
     "data": {
      "text/html": [
       "<div>\n",
       "<table border=\"1\" class=\"dataframe\">\n",
       "  <thead>\n",
       "    <tr style=\"text-align: right;\">\n",
       "      <th></th>\n",
       "      <th></th>\n",
       "      <th>time</th>\n",
       "    </tr>\n",
       "    <tr>\n",
       "      <th>visitID</th>\n",
       "      <th>zoekterm</th>\n",
       "      <th></th>\n",
       "    </tr>\n",
       "  </thead>\n",
       "  <tbody>\n",
       "    <tr>\n",
       "      <th>1000034</th>\n",
       "      <th>steennatie</th>\n",
       "      <td>2</td>\n",
       "    </tr>\n",
       "    <tr>\n",
       "      <th>1000060</th>\n",
       "      <th>janssens</th>\n",
       "      <td>1</td>\n",
       "    </tr>\n",
       "    <tr>\n",
       "      <th>1000097</th>\n",
       "      <th>abbaye d'aulne</th>\n",
       "      <td>1</td>\n",
       "    </tr>\n",
       "    <tr>\n",
       "      <th rowspan=\"2\" valign=\"top\">1000121</th>\n",
       "      <th>albin De Vuyst</th>\n",
       "      <td>1</td>\n",
       "    </tr>\n",
       "    <tr>\n",
       "      <th>matheus De Vuyst</th>\n",
       "      <td>4</td>\n",
       "    </tr>\n",
       "  </tbody>\n",
       "</table>\n",
       "</div>"
      ],
      "text/plain": [
       "                          time\n",
       "visitID zoekterm              \n",
       "1000034 steennatie           2\n",
       "1000060 janssens             1\n",
       "1000097 abbaye d'aulne       1\n",
       "1000121 albin De Vuyst       1\n",
       "        matheus De Vuyst     4"
      ]
     },
     "execution_count": 44,
     "metadata": {},
     "output_type": "execute_result"
    }
   ],
   "source": [
    "dout.head()"
   ]
  },
  {
   "cell_type": "code",
   "execution_count": 45,
   "metadata": {
    "collapsed": false
   },
   "outputs": [
    {
     "data": {
      "text/plain": [
       "77034"
      ]
     },
     "execution_count": 45,
     "metadata": {},
     "output_type": "execute_result"
    }
   ],
   "source": [
    "len(dout) #the number of lines should be lower after reduction"
   ]
  },
  {
   "cell_type": "code",
   "execution_count": 46,
   "metadata": {
    "collapsed": true
   },
   "outputs": [],
   "source": [
    "d.reset_index(inplace=True)\n",
    "d = d.rename(columns = {'time':'queries_count'}) #we rename the \"time\" column by a more explicit name "
   ]
  },
  {
   "cell_type": "code",
   "execution_count": 47,
   "metadata": {
    "collapsed": false
   },
   "outputs": [
    {
     "data": {
      "text/html": [
       "<div>\n",
       "<table border=\"1\" class=\"dataframe\">\n",
       "  <thead>\n",
       "    <tr style=\"text-align: right;\">\n",
       "      <th></th>\n",
       "      <th>visitID</th>\n",
       "      <th>zoekterm</th>\n",
       "      <th>queries_count</th>\n",
       "    </tr>\n",
       "  </thead>\n",
       "  <tbody>\n",
       "    <tr>\n",
       "      <th>0</th>\n",
       "      <td>1000034</td>\n",
       "      <td>steennatie</td>\n",
       "      <td>2</td>\n",
       "    </tr>\n",
       "    <tr>\n",
       "      <th>1</th>\n",
       "      <td>1000060</td>\n",
       "      <td>janssens</td>\n",
       "      <td>1</td>\n",
       "    </tr>\n",
       "    <tr>\n",
       "      <th>2</th>\n",
       "      <td>1000097</td>\n",
       "      <td>abbaye d'aulne</td>\n",
       "      <td>1</td>\n",
       "    </tr>\n",
       "    <tr>\n",
       "      <th>3</th>\n",
       "      <td>1000121</td>\n",
       "      <td>albin De Vuyst</td>\n",
       "      <td>1</td>\n",
       "    </tr>\n",
       "    <tr>\n",
       "      <th>4</th>\n",
       "      <td>1000121</td>\n",
       "      <td>matheus De Vuyst</td>\n",
       "      <td>4</td>\n",
       "    </tr>\n",
       "    <tr>\n",
       "      <th>5</th>\n",
       "      <td>1000121</td>\n",
       "      <td>matheus+De+Vuyst</td>\n",
       "      <td>4</td>\n",
       "    </tr>\n",
       "    <tr>\n",
       "      <th>6</th>\n",
       "      <td>1000125</td>\n",
       "      <td>MEDAERTS</td>\n",
       "      <td>2</td>\n",
       "    </tr>\n",
       "    <tr>\n",
       "      <th>7</th>\n",
       "      <td>1000125</td>\n",
       "      <td>MEDAERTS Franz</td>\n",
       "      <td>2</td>\n",
       "    </tr>\n",
       "    <tr>\n",
       "      <th>8</th>\n",
       "      <td>1000126</td>\n",
       "      <td>naissance à sugny</td>\n",
       "      <td>1</td>\n",
       "    </tr>\n",
       "    <tr>\n",
       "      <th>9</th>\n",
       "      <td>1000138</td>\n",
       "      <td>de waegenaere</td>\n",
       "      <td>1</td>\n",
       "    </tr>\n",
       "    <tr>\n",
       "      <th>10</th>\n",
       "      <td>1000138</td>\n",
       "      <td>de+waegenaere</td>\n",
       "      <td>1</td>\n",
       "    </tr>\n",
       "    <tr>\n",
       "      <th>11</th>\n",
       "      <td>1000164</td>\n",
       "      <td>Charlet</td>\n",
       "      <td>2</td>\n",
       "    </tr>\n",
       "    <tr>\n",
       "      <th>12</th>\n",
       "      <td>1000188</td>\n",
       "      <td>dave</td>\n",
       "      <td>2</td>\n",
       "    </tr>\n",
       "    <tr>\n",
       "      <th>13</th>\n",
       "      <td>1000270</td>\n",
       "      <td>administrateur territorial congo</td>\n",
       "      <td>1</td>\n",
       "    </tr>\n",
       "    <tr>\n",
       "      <th>14</th>\n",
       "      <td>1000270</td>\n",
       "      <td>administrateur+territorial+congo</td>\n",
       "      <td>9</td>\n",
       "    </tr>\n",
       "    <tr>\n",
       "      <th>15</th>\n",
       "      <td>1000270</td>\n",
       "      <td>congo</td>\n",
       "      <td>1</td>\n",
       "    </tr>\n",
       "    <tr>\n",
       "      <th>16</th>\n",
       "      <td>1000282</td>\n",
       "      <td>muller</td>\n",
       "      <td>3</td>\n",
       "    </tr>\n",
       "    <tr>\n",
       "      <th>17</th>\n",
       "      <td>1000315</td>\n",
       "      <td>cornelia verhoeven</td>\n",
       "      <td>1</td>\n",
       "    </tr>\n",
       "    <tr>\n",
       "      <th>18</th>\n",
       "      <td>1000315</td>\n",
       "      <td>cornelia+verhoeven</td>\n",
       "      <td>1</td>\n",
       "    </tr>\n",
       "    <tr>\n",
       "      <th>19</th>\n",
       "      <td>1000342</td>\n",
       "      <td>Mariages Esrtaimpuis</td>\n",
       "      <td>1</td>\n",
       "    </tr>\n",
       "    <tr>\n",
       "      <th>20</th>\n",
       "      <td>1000342</td>\n",
       "      <td>mariages</td>\n",
       "      <td>2</td>\n",
       "    </tr>\n",
       "    <tr>\n",
       "      <th>21</th>\n",
       "      <td>1000351</td>\n",
       "      <td>loof felix</td>\n",
       "      <td>1</td>\n",
       "    </tr>\n",
       "    <tr>\n",
       "      <th>22</th>\n",
       "      <td>1000351</td>\n",
       "      <td>loof+felix</td>\n",
       "      <td>2</td>\n",
       "    </tr>\n",
       "    <tr>\n",
       "      <th>23</th>\n",
       "      <td>1000364</td>\n",
       "      <td>flaman</td>\n",
       "      <td>5</td>\n",
       "    </tr>\n",
       "    <tr>\n",
       "      <th>24</th>\n",
       "      <td>1000383</td>\n",
       "      <td>coo</td>\n",
       "      <td>2</td>\n",
       "    </tr>\n",
       "    <tr>\n",
       "      <th>25</th>\n",
       "      <td>1000383</td>\n",
       "      <td>rechtbank</td>\n",
       "      <td>3</td>\n",
       "    </tr>\n",
       "    <tr>\n",
       "      <th>26</th>\n",
       "      <td>1000391</td>\n",
       "      <td>kohier penning</td>\n",
       "      <td>1</td>\n",
       "    </tr>\n",
       "    <tr>\n",
       "      <th>27</th>\n",
       "      <td>1000391</td>\n",
       "      <td>kohier+penning</td>\n",
       "      <td>1</td>\n",
       "    </tr>\n",
       "    <tr>\n",
       "      <th>28</th>\n",
       "      <td>1000391</td>\n",
       "      <td>kohieren 100ste penning</td>\n",
       "      <td>2</td>\n",
       "    </tr>\n",
       "  </tbody>\n",
       "</table>\n",
       "</div>"
      ],
      "text/plain": [
       "    visitID                          zoekterm  queries_count\n",
       "0   1000034                        steennatie              2\n",
       "1   1000060                          janssens              1\n",
       "2   1000097                    abbaye d'aulne              1\n",
       "3   1000121                    albin De Vuyst              1\n",
       "4   1000121                  matheus De Vuyst              4\n",
       "5   1000121                  matheus+De+Vuyst              4\n",
       "6   1000125                          MEDAERTS              2\n",
       "7   1000125                    MEDAERTS Franz              2\n",
       "8   1000126                 naissance à sugny              1\n",
       "9   1000138                     de waegenaere              1\n",
       "10  1000138                     de+waegenaere              1\n",
       "11  1000164                           Charlet              2\n",
       "12  1000188                              dave              2\n",
       "13  1000270  administrateur territorial congo              1\n",
       "14  1000270  administrateur+territorial+congo              9\n",
       "15  1000270                             congo              1\n",
       "16  1000282                            muller              3\n",
       "17  1000315                cornelia verhoeven              1\n",
       "18  1000315                cornelia+verhoeven              1\n",
       "19  1000342              Mariages Esrtaimpuis              1\n",
       "20  1000342                          mariages              2\n",
       "21  1000351                        loof felix              1\n",
       "22  1000351                        loof+felix              2\n",
       "23  1000364                            flaman              5\n",
       "24  1000383                               coo              2\n",
       "25  1000383                         rechtbank              3\n",
       "26  1000391                    kohier penning              1\n",
       "27  1000391                    kohier+penning              1\n",
       "28  1000391           kohieren 100ste penning              2"
      ]
     },
     "execution_count": 47,
     "metadata": {},
     "output_type": "execute_result"
    }
   ],
   "source": [
    "dout.head(29)"
   ]
  },
  {
   "cell_type": "code",
   "execution_count": 48,
   "metadata": {
    "collapsed": false
   },
   "outputs": [
    {
     "data": {
      "text/plain": [
       "42187"
      ]
     },
     "execution_count": 48,
     "metadata": {},
     "output_type": "execute_result"
    }
   ],
   "source": [
    "len(list(set(dout.visitID.tolist()))) # we lost some visitors, probably blank cells"
   ]
  },
  {
   "cell_type": "code",
   "execution_count": 49,
   "metadata": {
    "collapsed": false
   },
   "outputs": [
    {
     "data": {
      "text/plain": [
       "50350"
      ]
     },
     "execution_count": 49,
     "metadata": {},
     "output_type": "execute_result"
    }
   ],
   "source": [
    "len(list(set(dout.zoekterm.tolist()))) "
   ]
  },
  {
   "cell_type": "code",
   "execution_count": 50,
   "metadata": {
    "collapsed": false
   },
   "outputs": [
    {
     "data": {
      "text/plain": [
       "182490"
      ]
     },
     "execution_count": 50,
     "metadata": {},
     "output_type": "execute_result"
    }
   ],
   "source": [
    "dout.queries_count.sum() # = to sum up the queries\n",
    "#there is a lost we cannot explain, as with \"visitID\"... probably blank cells"
   ]
  },
  {
   "cell_type": "code",
   "execution_count": 51,
   "metadata": {
    "collapsed": false
   },
   "outputs": [],
   "source": [
    "dout.to_csv('output/B_grouping.csv')"
   ]
  },
  {
   "cell_type": "markdown",
   "metadata": {},
   "source": [
    "# C) CLEANING"
   ]
  },
  {
   "cell_type": "code",
   "execution_count": 60,
   "metadata": {
    "collapsed": false
   },
   "outputs": [],
   "source": [
    "from re import sub\n",
    "import re\n",
    "#we decide now what has to be done to normalise the query text\n",
    "def clean_text(text):\n",
    "    if re.search(\"^[0-9\\-\\.\\/]*$\", text) != None : #we avoid keeping queries composed only of numbers \n",
    "        #(update: maybe you should also take into account others special characters such as * & © À etc.)\n",
    "        text = 'NULL'\n",
    "    elif text != 'NaN':\n",
    "        text = str(text) #\n",
    "        text = text.lower() #convert to lower case \n",
    "        text = sub('[^a-zéèèêàâäüùôöç0-9\\']', ' ', text) #we don't want to keep the \"?\" nor the \"+\" between 2 words\n",
    "        text = str.replace(text,'é','e') #We could certainly do shorter, this is the long version but at least it does the job\n",
    "        text = str.replace(text,'è','e')\n",
    "        text = str.replace(text,'ê','e')\n",
    "        text = str.replace(text,'à','a')\n",
    "        text = str.replace(text,'â','a')\n",
    "        text = str.replace(text,'û','u')\n",
    "        text = str.replace(text,'ù','u')\n",
    "        text = str.replace(text,'ô','o')\n",
    "        text = str.replace(text,'ç','c')\n",
    "        text = str.replace(text,'ö','o')\n",
    "        text = str.replace(text,'ë','e')\n",
    "        text = str.replace(text,'\\'',' ')\n",
    "        text = str.replace(text,'  ',' ')\n",
    "        text = str.replace(text,'   ',' ')\n",
    "        text = text.strip() #Return a copy of the string with the leading and trailing characters removed\n",
    "    return text"
   ]
  },
  {
   "cell_type": "code",
   "execution_count": 61,
   "metadata": {
    "collapsed": false
   },
   "outputs": [],
   "source": [
    "d = pd.read_csv('output/B_grouping.csv')"
   ]
  },
  {
   "cell_type": "code",
   "execution_count": 62,
   "metadata": {
    "collapsed": false
   },
   "outputs": [],
   "source": [
    "d = d[['visitID','zoekterm','queries_count']]"
   ]
  },
  {
   "cell_type": "code",
   "execution_count": 63,
   "metadata": {
    "collapsed": false
   },
   "outputs": [
    {
     "name": "stdout",
     "output_type": "stream",
     "text": [
      "2000\n",
      "4000\n",
      "6000\n",
      "8000\n",
      "10000\n",
      "12000\n",
      "14000\n",
      "16000\n",
      "18000\n",
      "20000\n",
      "22000\n",
      "24000\n",
      "26000\n",
      "28000\n",
      "30000\n",
      "32000\n",
      "34000\n",
      "36000\n",
      "38000\n",
      "40000\n",
      "42000\n",
      "44000\n",
      "46000\n",
      "48000\n",
      "50000\n",
      "52000\n",
      "54000\n",
      "56000\n",
      "58000\n",
      "60000\n",
      "62000\n",
      "64000\n",
      "66000\n",
      "68000\n",
      "70000\n",
      "72000\n",
      "74000\n",
      "76000\n"
     ]
    },
    {
     "data": {
      "text/html": [
       "<div>\n",
       "<table border=\"1\" class=\"dataframe\">\n",
       "  <thead>\n",
       "    <tr style=\"text-align: right;\">\n",
       "      <th></th>\n",
       "      <th>visitID</th>\n",
       "      <th>zoekterm</th>\n",
       "      <th>queries_count</th>\n",
       "      <th>normalised_zoekterm</th>\n",
       "    </tr>\n",
       "  </thead>\n",
       "  <tbody>\n",
       "    <tr>\n",
       "      <th>0</th>\n",
       "      <td>1000034</td>\n",
       "      <td>steennatie</td>\n",
       "      <td>2</td>\n",
       "      <td>steennatie</td>\n",
       "    </tr>\n",
       "    <tr>\n",
       "      <th>1</th>\n",
       "      <td>1000060</td>\n",
       "      <td>janssens</td>\n",
       "      <td>1</td>\n",
       "      <td>janssens</td>\n",
       "    </tr>\n",
       "    <tr>\n",
       "      <th>2</th>\n",
       "      <td>1000097</td>\n",
       "      <td>abbaye d'aulne</td>\n",
       "      <td>1</td>\n",
       "      <td>abbaye d aulne</td>\n",
       "    </tr>\n",
       "    <tr>\n",
       "      <th>3</th>\n",
       "      <td>1000121</td>\n",
       "      <td>albin De Vuyst</td>\n",
       "      <td>1</td>\n",
       "      <td>albin de vuyst</td>\n",
       "    </tr>\n",
       "    <tr>\n",
       "      <th>4</th>\n",
       "      <td>1000121</td>\n",
       "      <td>matheus De Vuyst</td>\n",
       "      <td>4</td>\n",
       "      <td>matheus de vuyst</td>\n",
       "    </tr>\n",
       "  </tbody>\n",
       "</table>\n",
       "</div>"
      ],
      "text/plain": [
       "   visitID          zoekterm  queries_count normalised_zoekterm\n",
       "0  1000034        steennatie              2          steennatie\n",
       "1  1000060          janssens              1            janssens\n",
       "2  1000097    abbaye d'aulne              1      abbaye d aulne\n",
       "3  1000121    albin De Vuyst              1      albin de vuyst\n",
       "4  1000121  matheus De Vuyst              4    matheus de vuyst"
      ]
     },
     "execution_count": 63,
     "metadata": {},
     "output_type": "execute_result"
    }
   ],
   "source": [
    "#normalisation function\n",
    "d['normalised_zoekterm'] = ''\n",
    "subcount = 0\n",
    "count = 0\n",
    "for i, r in d.iterrows():\n",
    "    subcount += 1\n",
    "    if subcount == 2000: #you can change the number depending on the size of the dataset\n",
    "        count += subcount\n",
    "        print(count)\n",
    "        subcount = 0\n",
    "    d.ix[i,'normalised_zoekterm'] = clean_text(r.zoekterm)\n",
    "    \n",
    "d.head() #to check if it works correctly"
   ]
  },
  {
   "cell_type": "code",
   "execution_count": 64,
   "metadata": {
    "collapsed": true
   },
   "outputs": [],
   "source": [
    "d.to_csv(\"output/C_cleaning.csv\")"
   ]
  },
  {
   "cell_type": "code",
   "execution_count": 65,
   "metadata": {
    "collapsed": false
   },
   "outputs": [
    {
     "data": {
      "text/html": [
       "<div>\n",
       "<table border=\"1\" class=\"dataframe\">\n",
       "  <thead>\n",
       "    <tr style=\"text-align: right;\">\n",
       "      <th></th>\n",
       "      <th>visitID</th>\n",
       "      <th>zoekterm</th>\n",
       "      <th>queries_count</th>\n",
       "      <th>normalised_zoekterm</th>\n",
       "    </tr>\n",
       "  </thead>\n",
       "  <tbody>\n",
       "    <tr>\n",
       "      <th>0</th>\n",
       "      <td>1000034</td>\n",
       "      <td>steennatie</td>\n",
       "      <td>2</td>\n",
       "      <td>steennatie</td>\n",
       "    </tr>\n",
       "    <tr>\n",
       "      <th>1</th>\n",
       "      <td>1000060</td>\n",
       "      <td>janssens</td>\n",
       "      <td>1</td>\n",
       "      <td>janssens</td>\n",
       "    </tr>\n",
       "    <tr>\n",
       "      <th>2</th>\n",
       "      <td>1000097</td>\n",
       "      <td>abbaye d'aulne</td>\n",
       "      <td>1</td>\n",
       "      <td>abbaye d aulne</td>\n",
       "    </tr>\n",
       "    <tr>\n",
       "      <th>3</th>\n",
       "      <td>1000121</td>\n",
       "      <td>albin De Vuyst</td>\n",
       "      <td>1</td>\n",
       "      <td>albin de vuyst</td>\n",
       "    </tr>\n",
       "    <tr>\n",
       "      <th>4</th>\n",
       "      <td>1000121</td>\n",
       "      <td>matheus De Vuyst</td>\n",
       "      <td>4</td>\n",
       "      <td>matheus de vuyst</td>\n",
       "    </tr>\n",
       "    <tr>\n",
       "      <th>5</th>\n",
       "      <td>1000121</td>\n",
       "      <td>matheus+De+Vuyst</td>\n",
       "      <td>4</td>\n",
       "      <td>matheus de vuyst</td>\n",
       "    </tr>\n",
       "    <tr>\n",
       "      <th>6</th>\n",
       "      <td>1000125</td>\n",
       "      <td>MEDAERTS</td>\n",
       "      <td>2</td>\n",
       "      <td>medaerts</td>\n",
       "    </tr>\n",
       "    <tr>\n",
       "      <th>7</th>\n",
       "      <td>1000125</td>\n",
       "      <td>MEDAERTS Franz</td>\n",
       "      <td>2</td>\n",
       "      <td>medaerts franz</td>\n",
       "    </tr>\n",
       "    <tr>\n",
       "      <th>8</th>\n",
       "      <td>1000126</td>\n",
       "      <td>naissance à sugny</td>\n",
       "      <td>1</td>\n",
       "      <td>naissance a sugny</td>\n",
       "    </tr>\n",
       "    <tr>\n",
       "      <th>9</th>\n",
       "      <td>1000138</td>\n",
       "      <td>de waegenaere</td>\n",
       "      <td>1</td>\n",
       "      <td>de waegenaere</td>\n",
       "    </tr>\n",
       "    <tr>\n",
       "      <th>10</th>\n",
       "      <td>1000138</td>\n",
       "      <td>de+waegenaere</td>\n",
       "      <td>1</td>\n",
       "      <td>de waegenaere</td>\n",
       "    </tr>\n",
       "    <tr>\n",
       "      <th>11</th>\n",
       "      <td>1000164</td>\n",
       "      <td>Charlet</td>\n",
       "      <td>2</td>\n",
       "      <td>charlet</td>\n",
       "    </tr>\n",
       "    <tr>\n",
       "      <th>12</th>\n",
       "      <td>1000188</td>\n",
       "      <td>dave</td>\n",
       "      <td>2</td>\n",
       "      <td>dave</td>\n",
       "    </tr>\n",
       "    <tr>\n",
       "      <th>13</th>\n",
       "      <td>1000270</td>\n",
       "      <td>administrateur territorial congo</td>\n",
       "      <td>1</td>\n",
       "      <td>administrateur territorial congo</td>\n",
       "    </tr>\n",
       "    <tr>\n",
       "      <th>14</th>\n",
       "      <td>1000270</td>\n",
       "      <td>administrateur+territorial+congo</td>\n",
       "      <td>9</td>\n",
       "      <td>administrateur territorial congo</td>\n",
       "    </tr>\n",
       "    <tr>\n",
       "      <th>15</th>\n",
       "      <td>1000270</td>\n",
       "      <td>congo</td>\n",
       "      <td>1</td>\n",
       "      <td>congo</td>\n",
       "    </tr>\n",
       "    <tr>\n",
       "      <th>16</th>\n",
       "      <td>1000282</td>\n",
       "      <td>muller</td>\n",
       "      <td>3</td>\n",
       "      <td>muller</td>\n",
       "    </tr>\n",
       "    <tr>\n",
       "      <th>17</th>\n",
       "      <td>1000315</td>\n",
       "      <td>cornelia verhoeven</td>\n",
       "      <td>1</td>\n",
       "      <td>cornelia verhoeven</td>\n",
       "    </tr>\n",
       "    <tr>\n",
       "      <th>18</th>\n",
       "      <td>1000315</td>\n",
       "      <td>cornelia+verhoeven</td>\n",
       "      <td>1</td>\n",
       "      <td>cornelia verhoeven</td>\n",
       "    </tr>\n",
       "    <tr>\n",
       "      <th>19</th>\n",
       "      <td>1000342</td>\n",
       "      <td>Mariages Esrtaimpuis</td>\n",
       "      <td>1</td>\n",
       "      <td>mariages esrtaimpuis</td>\n",
       "    </tr>\n",
       "    <tr>\n",
       "      <th>20</th>\n",
       "      <td>1000342</td>\n",
       "      <td>mariages</td>\n",
       "      <td>2</td>\n",
       "      <td>mariages</td>\n",
       "    </tr>\n",
       "    <tr>\n",
       "      <th>21</th>\n",
       "      <td>1000351</td>\n",
       "      <td>loof felix</td>\n",
       "      <td>1</td>\n",
       "      <td>loof felix</td>\n",
       "    </tr>\n",
       "    <tr>\n",
       "      <th>22</th>\n",
       "      <td>1000351</td>\n",
       "      <td>loof+felix</td>\n",
       "      <td>2</td>\n",
       "      <td>loof felix</td>\n",
       "    </tr>\n",
       "    <tr>\n",
       "      <th>23</th>\n",
       "      <td>1000364</td>\n",
       "      <td>flaman</td>\n",
       "      <td>5</td>\n",
       "      <td>flaman</td>\n",
       "    </tr>\n",
       "    <tr>\n",
       "      <th>24</th>\n",
       "      <td>1000383</td>\n",
       "      <td>coo</td>\n",
       "      <td>2</td>\n",
       "      <td>coo</td>\n",
       "    </tr>\n",
       "    <tr>\n",
       "      <th>25</th>\n",
       "      <td>1000383</td>\n",
       "      <td>rechtbank</td>\n",
       "      <td>3</td>\n",
       "      <td>rechtbank</td>\n",
       "    </tr>\n",
       "    <tr>\n",
       "      <th>26</th>\n",
       "      <td>1000391</td>\n",
       "      <td>kohier penning</td>\n",
       "      <td>1</td>\n",
       "      <td>kohier penning</td>\n",
       "    </tr>\n",
       "    <tr>\n",
       "      <th>27</th>\n",
       "      <td>1000391</td>\n",
       "      <td>kohier+penning</td>\n",
       "      <td>1</td>\n",
       "      <td>kohier penning</td>\n",
       "    </tr>\n",
       "    <tr>\n",
       "      <th>28</th>\n",
       "      <td>1000391</td>\n",
       "      <td>kohieren 100ste penning</td>\n",
       "      <td>2</td>\n",
       "      <td>kohieren 100ste penning</td>\n",
       "    </tr>\n",
       "    <tr>\n",
       "      <th>29</th>\n",
       "      <td>1000391</td>\n",
       "      <td>penningkohieren</td>\n",
       "      <td>1</td>\n",
       "      <td>penningkohieren</td>\n",
       "    </tr>\n",
       "    <tr>\n",
       "      <th>...</th>\n",
       "      <td>...</td>\n",
       "      <td>...</td>\n",
       "      <td>...</td>\n",
       "      <td>...</td>\n",
       "    </tr>\n",
       "    <tr>\n",
       "      <th>170</th>\n",
       "      <td>1002489</td>\n",
       "      <td>haine</td>\n",
       "      <td>2</td>\n",
       "      <td>haine</td>\n",
       "    </tr>\n",
       "    <tr>\n",
       "      <th>171</th>\n",
       "      <td>1002489</td>\n",
       "      <td>la montagne</td>\n",
       "      <td>2</td>\n",
       "      <td>la montagne</td>\n",
       "    </tr>\n",
       "    <tr>\n",
       "      <th>172</th>\n",
       "      <td>1002489</td>\n",
       "      <td>la montagne oud heverlee</td>\n",
       "      <td>1</td>\n",
       "      <td>la montagne oud heverlee</td>\n",
       "    </tr>\n",
       "    <tr>\n",
       "      <th>173</th>\n",
       "      <td>1002489</td>\n",
       "      <td>la+montagne+oud+heverlee</td>\n",
       "      <td>2</td>\n",
       "      <td>la montagne oud heverlee</td>\n",
       "    </tr>\n",
       "    <tr>\n",
       "      <th>174</th>\n",
       "      <td>1002489</td>\n",
       "      <td>sint kwintens leuven</td>\n",
       "      <td>2</td>\n",
       "      <td>sint kwintens leuven</td>\n",
       "    </tr>\n",
       "    <tr>\n",
       "      <th>175</th>\n",
       "      <td>1002489</td>\n",
       "      <td>sint lambertus heverlee</td>\n",
       "      <td>3</td>\n",
       "      <td>sint lambertus heverlee</td>\n",
       "    </tr>\n",
       "    <tr>\n",
       "      <th>176</th>\n",
       "      <td>1002489</td>\n",
       "      <td>sint+kwintens+leuven</td>\n",
       "      <td>1</td>\n",
       "      <td>sint kwintens leuven</td>\n",
       "    </tr>\n",
       "    <tr>\n",
       "      <th>177</th>\n",
       "      <td>1002489</td>\n",
       "      <td>spaans dak</td>\n",
       "      <td>1</td>\n",
       "      <td>spaans dak</td>\n",
       "    </tr>\n",
       "    <tr>\n",
       "      <th>178</th>\n",
       "      <td>1002512</td>\n",
       "      <td>Uytterhoeven</td>\n",
       "      <td>2</td>\n",
       "      <td>uytterhoeven</td>\n",
       "    </tr>\n",
       "    <tr>\n",
       "      <th>179</th>\n",
       "      <td>1002585</td>\n",
       "      <td>Delangre Leopold</td>\n",
       "      <td>1</td>\n",
       "      <td>delangre leopold</td>\n",
       "    </tr>\n",
       "    <tr>\n",
       "      <th>180</th>\n",
       "      <td>1002589</td>\n",
       "      <td>fort saint-heribert</td>\n",
       "      <td>1</td>\n",
       "      <td>fort saint heribert</td>\n",
       "    </tr>\n",
       "    <tr>\n",
       "      <th>181</th>\n",
       "      <td>1002589</td>\n",
       "      <td>saint heribert</td>\n",
       "      <td>1</td>\n",
       "      <td>saint heribert</td>\n",
       "    </tr>\n",
       "    <tr>\n",
       "      <th>182</th>\n",
       "      <td>1002602</td>\n",
       "      <td>LOFFLER</td>\n",
       "      <td>1</td>\n",
       "      <td>loffler</td>\n",
       "    </tr>\n",
       "    <tr>\n",
       "      <th>183</th>\n",
       "      <td>1002604</td>\n",
       "      <td>dommages de guerre</td>\n",
       "      <td>2</td>\n",
       "      <td>dommages de guerre</td>\n",
       "    </tr>\n",
       "    <tr>\n",
       "      <th>184</th>\n",
       "      <td>1002626</td>\n",
       "      <td>Tiri</td>\n",
       "      <td>4</td>\n",
       "      <td>tiri</td>\n",
       "    </tr>\n",
       "    <tr>\n",
       "      <th>185</th>\n",
       "      <td>1002643</td>\n",
       "      <td>Gouy lez pieton</td>\n",
       "      <td>1</td>\n",
       "      <td>gouy lez pieton</td>\n",
       "    </tr>\n",
       "    <tr>\n",
       "      <th>186</th>\n",
       "      <td>1002643</td>\n",
       "      <td>Gouy lez pieton rue champetre</td>\n",
       "      <td>2</td>\n",
       "      <td>gouy lez pieton rue champetre</td>\n",
       "    </tr>\n",
       "    <tr>\n",
       "      <th>187</th>\n",
       "      <td>1002713</td>\n",
       "      <td>parochieregisters</td>\n",
       "      <td>1</td>\n",
       "      <td>parochieregisters</td>\n",
       "    </tr>\n",
       "    <tr>\n",
       "      <th>188</th>\n",
       "      <td>1002721</td>\n",
       "      <td>vanhyfte</td>\n",
       "      <td>2</td>\n",
       "      <td>vanhyfte</td>\n",
       "    </tr>\n",
       "    <tr>\n",
       "      <th>189</th>\n",
       "      <td>1002733</td>\n",
       "      <td>troussart</td>\n",
       "      <td>1</td>\n",
       "      <td>troussart</td>\n",
       "    </tr>\n",
       "    <tr>\n",
       "      <th>190</th>\n",
       "      <td>1002752</td>\n",
       "      <td>leuven</td>\n",
       "      <td>5</td>\n",
       "      <td>leuven</td>\n",
       "    </tr>\n",
       "    <tr>\n",
       "      <th>191</th>\n",
       "      <td>1002755</td>\n",
       "      <td>kalken</td>\n",
       "      <td>2</td>\n",
       "      <td>kalken</td>\n",
       "    </tr>\n",
       "    <tr>\n",
       "      <th>192</th>\n",
       "      <td>1002763</td>\n",
       "      <td>Van keer</td>\n",
       "      <td>1</td>\n",
       "      <td>van keer</td>\n",
       "    </tr>\n",
       "    <tr>\n",
       "      <th>193</th>\n",
       "      <td>1002763</td>\n",
       "      <td>Van+keer</td>\n",
       "      <td>1</td>\n",
       "      <td>van keer</td>\n",
       "    </tr>\n",
       "    <tr>\n",
       "      <th>194</th>\n",
       "      <td>1002827</td>\n",
       "      <td>1628</td>\n",
       "      <td>1</td>\n",
       "      <td>NULL</td>\n",
       "    </tr>\n",
       "    <tr>\n",
       "      <th>195</th>\n",
       "      <td>1002827</td>\n",
       "      <td>chronique 1628</td>\n",
       "      <td>1</td>\n",
       "      <td>chronique 1628</td>\n",
       "    </tr>\n",
       "    <tr>\n",
       "      <th>196</th>\n",
       "      <td>1002827</td>\n",
       "      <td>chronique dite de 1628</td>\n",
       "      <td>1</td>\n",
       "      <td>chronique dite de 1628</td>\n",
       "    </tr>\n",
       "    <tr>\n",
       "      <th>197</th>\n",
       "      <td>1002827</td>\n",
       "      <td>chronique manuscrite</td>\n",
       "      <td>1</td>\n",
       "      <td>chronique manuscrite</td>\n",
       "    </tr>\n",
       "    <tr>\n",
       "      <th>198</th>\n",
       "      <td>1002827</td>\n",
       "      <td>chronique+dite+de+1628</td>\n",
       "      <td>1</td>\n",
       "      <td>chronique dite de 1628</td>\n",
       "    </tr>\n",
       "    <tr>\n",
       "      <th>199</th>\n",
       "      <td>1002827</td>\n",
       "      <td>chronique+manuscrite</td>\n",
       "      <td>1</td>\n",
       "      <td>chronique manuscrite</td>\n",
       "    </tr>\n",
       "  </tbody>\n",
       "</table>\n",
       "<p>200 rows × 4 columns</p>\n",
       "</div>"
      ],
      "text/plain": [
       "     visitID                          zoekterm  queries_count  \\\n",
       "0    1000034                        steennatie              2   \n",
       "1    1000060                          janssens              1   \n",
       "2    1000097                    abbaye d'aulne              1   \n",
       "3    1000121                    albin De Vuyst              1   \n",
       "4    1000121                  matheus De Vuyst              4   \n",
       "5    1000121                  matheus+De+Vuyst              4   \n",
       "6    1000125                          MEDAERTS              2   \n",
       "7    1000125                    MEDAERTS Franz              2   \n",
       "8    1000126                 naissance à sugny              1   \n",
       "9    1000138                     de waegenaere              1   \n",
       "10   1000138                     de+waegenaere              1   \n",
       "11   1000164                           Charlet              2   \n",
       "12   1000188                              dave              2   \n",
       "13   1000270  administrateur territorial congo              1   \n",
       "14   1000270  administrateur+territorial+congo              9   \n",
       "15   1000270                             congo              1   \n",
       "16   1000282                            muller              3   \n",
       "17   1000315                cornelia verhoeven              1   \n",
       "18   1000315                cornelia+verhoeven              1   \n",
       "19   1000342              Mariages Esrtaimpuis              1   \n",
       "20   1000342                          mariages              2   \n",
       "21   1000351                        loof felix              1   \n",
       "22   1000351                        loof+felix              2   \n",
       "23   1000364                            flaman              5   \n",
       "24   1000383                               coo              2   \n",
       "25   1000383                         rechtbank              3   \n",
       "26   1000391                    kohier penning              1   \n",
       "27   1000391                    kohier+penning              1   \n",
       "28   1000391           kohieren 100ste penning              2   \n",
       "29   1000391                   penningkohieren              1   \n",
       "..       ...                               ...            ...   \n",
       "170  1002489                             haine              2   \n",
       "171  1002489                       la montagne              2   \n",
       "172  1002489          la montagne oud heverlee              1   \n",
       "173  1002489          la+montagne+oud+heverlee              2   \n",
       "174  1002489              sint kwintens leuven              2   \n",
       "175  1002489           sint lambertus heverlee              3   \n",
       "176  1002489              sint+kwintens+leuven              1   \n",
       "177  1002489                        spaans dak              1   \n",
       "178  1002512                      Uytterhoeven              2   \n",
       "179  1002585                  Delangre Leopold              1   \n",
       "180  1002589               fort saint-heribert              1   \n",
       "181  1002589                    saint heribert              1   \n",
       "182  1002602                           LOFFLER              1   \n",
       "183  1002604                dommages de guerre              2   \n",
       "184  1002626                              Tiri              4   \n",
       "185  1002643                   Gouy lez pieton              1   \n",
       "186  1002643     Gouy lez pieton rue champetre              2   \n",
       "187  1002713                 parochieregisters              1   \n",
       "188  1002721                          vanhyfte              2   \n",
       "189  1002733                         troussart              1   \n",
       "190  1002752                            leuven              5   \n",
       "191  1002755                            kalken              2   \n",
       "192  1002763                          Van keer              1   \n",
       "193  1002763                          Van+keer              1   \n",
       "194  1002827                              1628              1   \n",
       "195  1002827                    chronique 1628              1   \n",
       "196  1002827            chronique dite de 1628              1   \n",
       "197  1002827              chronique manuscrite              1   \n",
       "198  1002827            chronique+dite+de+1628              1   \n",
       "199  1002827              chronique+manuscrite              1   \n",
       "\n",
       "                  normalised_zoekterm  \n",
       "0                          steennatie  \n",
       "1                            janssens  \n",
       "2                      abbaye d aulne  \n",
       "3                      albin de vuyst  \n",
       "4                    matheus de vuyst  \n",
       "5                    matheus de vuyst  \n",
       "6                            medaerts  \n",
       "7                      medaerts franz  \n",
       "8                   naissance a sugny  \n",
       "9                       de waegenaere  \n",
       "10                      de waegenaere  \n",
       "11                            charlet  \n",
       "12                               dave  \n",
       "13   administrateur territorial congo  \n",
       "14   administrateur territorial congo  \n",
       "15                              congo  \n",
       "16                             muller  \n",
       "17                 cornelia verhoeven  \n",
       "18                 cornelia verhoeven  \n",
       "19               mariages esrtaimpuis  \n",
       "20                           mariages  \n",
       "21                         loof felix  \n",
       "22                         loof felix  \n",
       "23                             flaman  \n",
       "24                                coo  \n",
       "25                          rechtbank  \n",
       "26                     kohier penning  \n",
       "27                     kohier penning  \n",
       "28            kohieren 100ste penning  \n",
       "29                    penningkohieren  \n",
       "..                                ...  \n",
       "170                             haine  \n",
       "171                       la montagne  \n",
       "172          la montagne oud heverlee  \n",
       "173          la montagne oud heverlee  \n",
       "174              sint kwintens leuven  \n",
       "175           sint lambertus heverlee  \n",
       "176              sint kwintens leuven  \n",
       "177                        spaans dak  \n",
       "178                      uytterhoeven  \n",
       "179                  delangre leopold  \n",
       "180               fort saint heribert  \n",
       "181                    saint heribert  \n",
       "182                           loffler  \n",
       "183                dommages de guerre  \n",
       "184                              tiri  \n",
       "185                   gouy lez pieton  \n",
       "186     gouy lez pieton rue champetre  \n",
       "187                 parochieregisters  \n",
       "188                          vanhyfte  \n",
       "189                         troussart  \n",
       "190                            leuven  \n",
       "191                            kalken  \n",
       "192                          van keer  \n",
       "193                          van keer  \n",
       "194                              NULL  \n",
       "195                    chronique 1628  \n",
       "196            chronique dite de 1628  \n",
       "197              chronique manuscrite  \n",
       "198            chronique dite de 1628  \n",
       "199              chronique manuscrite  \n",
       "\n",
       "[200 rows x 4 columns]"
      ]
     },
     "execution_count": 65,
     "metadata": {},
     "output_type": "execute_result"
    }
   ],
   "source": [
    "d.head(200) #we can check on a bigger sample if everything seems fine\n",
    "#queries composed only by numbers appear now as \"NULL\""
   ]
  },
  {
   "cell_type": "markdown",
   "metadata": {},
   "source": [
    "## New reduction after the cleaning step"
   ]
  },
  {
   "cell_type": "code",
   "execution_count": null,
   "metadata": {
    "collapsed": true
   },
   "outputs": [],
   "source": [
    "#the cleaning step has revealed new duplicates and we want to keep each identical request only once/visit"
   ]
  },
  {
   "cell_type": "code",
   "execution_count": 6,
   "metadata": {
    "collapsed": false
   },
   "outputs": [],
   "source": [
    "d = pd.read_csv(\"output/C_cleaning.csv\")\n",
    "d = d.drop('Unnamed: 0', axis = 1)\n",
    "#d = d.drop('Unnamed: 0.1', axis = 1)"
   ]
  },
  {
   "cell_type": "code",
   "execution_count": 7,
   "metadata": {
    "collapsed": false
   },
   "outputs": [
    {
     "data": {
      "text/html": [
       "<div>\n",
       "<table border=\"1\" class=\"dataframe\">\n",
       "  <thead>\n",
       "    <tr style=\"text-align: right;\">\n",
       "      <th></th>\n",
       "      <th>visitID</th>\n",
       "      <th>zoekterm</th>\n",
       "      <th>queries_count</th>\n",
       "      <th>normalised_zoekterm</th>\n",
       "    </tr>\n",
       "  </thead>\n",
       "  <tbody>\n",
       "    <tr>\n",
       "      <th>0</th>\n",
       "      <td>1000034</td>\n",
       "      <td>steennatie</td>\n",
       "      <td>2</td>\n",
       "      <td>steennatie</td>\n",
       "    </tr>\n",
       "    <tr>\n",
       "      <th>1</th>\n",
       "      <td>1000060</td>\n",
       "      <td>janssens</td>\n",
       "      <td>1</td>\n",
       "      <td>janssens</td>\n",
       "    </tr>\n",
       "    <tr>\n",
       "      <th>2</th>\n",
       "      <td>1000097</td>\n",
       "      <td>abbaye d'aulne</td>\n",
       "      <td>1</td>\n",
       "      <td>abbaye d aulne</td>\n",
       "    </tr>\n",
       "    <tr>\n",
       "      <th>3</th>\n",
       "      <td>1000121</td>\n",
       "      <td>albin De Vuyst</td>\n",
       "      <td>1</td>\n",
       "      <td>albin de vuyst</td>\n",
       "    </tr>\n",
       "    <tr>\n",
       "      <th>4</th>\n",
       "      <td>1000121</td>\n",
       "      <td>matheus De Vuyst</td>\n",
       "      <td>4</td>\n",
       "      <td>matheus de vuyst</td>\n",
       "    </tr>\n",
       "    <tr>\n",
       "      <th>5</th>\n",
       "      <td>1000121</td>\n",
       "      <td>matheus+De+Vuyst</td>\n",
       "      <td>4</td>\n",
       "      <td>matheus de vuyst</td>\n",
       "    </tr>\n",
       "    <tr>\n",
       "      <th>6</th>\n",
       "      <td>1000125</td>\n",
       "      <td>MEDAERTS</td>\n",
       "      <td>2</td>\n",
       "      <td>medaerts</td>\n",
       "    </tr>\n",
       "    <tr>\n",
       "      <th>7</th>\n",
       "      <td>1000125</td>\n",
       "      <td>MEDAERTS Franz</td>\n",
       "      <td>2</td>\n",
       "      <td>medaerts franz</td>\n",
       "    </tr>\n",
       "    <tr>\n",
       "      <th>8</th>\n",
       "      <td>1000126</td>\n",
       "      <td>naissance à sugny</td>\n",
       "      <td>1</td>\n",
       "      <td>naissance a sugny</td>\n",
       "    </tr>\n",
       "    <tr>\n",
       "      <th>9</th>\n",
       "      <td>1000138</td>\n",
       "      <td>de waegenaere</td>\n",
       "      <td>1</td>\n",
       "      <td>de waegenaere</td>\n",
       "    </tr>\n",
       "  </tbody>\n",
       "</table>\n",
       "</div>"
      ],
      "text/plain": [
       "   visitID           zoekterm  queries_count normalised_zoekterm\n",
       "0  1000034         steennatie              2          steennatie\n",
       "1  1000060           janssens              1            janssens\n",
       "2  1000097     abbaye d'aulne              1      abbaye d aulne\n",
       "3  1000121     albin De Vuyst              1      albin de vuyst\n",
       "4  1000121   matheus De Vuyst              4    matheus de vuyst\n",
       "5  1000121   matheus+De+Vuyst              4    matheus de vuyst\n",
       "6  1000125           MEDAERTS              2            medaerts\n",
       "7  1000125     MEDAERTS Franz              2      medaerts franz\n",
       "8  1000126  naissance à sugny              1   naissance a sugny\n",
       "9  1000138      de waegenaere              1       de waegenaere"
      ]
     },
     "execution_count": 7,
     "metadata": {},
     "output_type": "execute_result"
    }
   ],
   "source": [
    "d.head(10)"
   ]
  },
  {
   "cell_type": "code",
   "execution_count": 8,
   "metadata": {
    "collapsed": false
   },
   "outputs": [
    {
     "data": {
      "text/plain": [
       "77034"
      ]
     },
     "execution_count": 8,
     "metadata": {},
     "output_type": "execute_result"
    }
   ],
   "source": [
    "len(d)"
   ]
  },
  {
   "cell_type": "code",
   "execution_count": 9,
   "metadata": {
    "collapsed": false
   },
   "outputs": [
    {
     "data": {
      "text/plain": [
       "182490"
      ]
     },
     "execution_count": 9,
     "metadata": {},
     "output_type": "execute_result"
    }
   ],
   "source": [
    "d.queries_count.sum() "
   ]
  },
  {
   "cell_type": "code",
   "execution_count": 10,
   "metadata": {
    "collapsed": false
   },
   "outputs": [
    {
     "data": {
      "text/plain": [
       "37400"
      ]
     },
     "execution_count": 10,
     "metadata": {},
     "output_type": "execute_result"
    }
   ],
   "source": [
    "len(list(set(d.normalised_zoekterm.tolist()))) "
   ]
  },
  {
   "cell_type": "code",
   "execution_count": 11,
   "metadata": {
    "collapsed": false
   },
   "outputs": [
    {
     "data": {
      "text/html": [
       "<div>\n",
       "<table border=\"1\" class=\"dataframe\">\n",
       "  <thead>\n",
       "    <tr style=\"text-align: right;\">\n",
       "      <th></th>\n",
       "      <th>visitID</th>\n",
       "      <th>normalised_zoekterm</th>\n",
       "      <th>queries_count</th>\n",
       "    </tr>\n",
       "  </thead>\n",
       "  <tbody>\n",
       "    <tr>\n",
       "      <th>0</th>\n",
       "      <td>649717</td>\n",
       "      <td>gotem</td>\n",
       "      <td>3</td>\n",
       "    </tr>\n",
       "    <tr>\n",
       "      <th>1</th>\n",
       "      <td>649730</td>\n",
       "      <td>couthuin</td>\n",
       "      <td>1</td>\n",
       "    </tr>\n",
       "    <tr>\n",
       "      <th>2</th>\n",
       "      <td>649779</td>\n",
       "      <td>dreesens</td>\n",
       "      <td>1</td>\n",
       "    </tr>\n",
       "    <tr>\n",
       "      <th>3</th>\n",
       "      <td>649783</td>\n",
       "      <td>jonathan paleovrisotis</td>\n",
       "      <td>3</td>\n",
       "    </tr>\n",
       "    <tr>\n",
       "      <th>4</th>\n",
       "      <td>649796</td>\n",
       "      <td>antwerpen</td>\n",
       "      <td>1</td>\n",
       "    </tr>\n",
       "    <tr>\n",
       "      <th>5</th>\n",
       "      <td>649796</td>\n",
       "      <td>borsbeek</td>\n",
       "      <td>2</td>\n",
       "    </tr>\n",
       "    <tr>\n",
       "      <th>6</th>\n",
       "      <td>649851</td>\n",
       "      <td>trouw christelle van keymeulen</td>\n",
       "      <td>1</td>\n",
       "    </tr>\n",
       "    <tr>\n",
       "      <th>7</th>\n",
       "      <td>649867</td>\n",
       "      <td>deffrenne</td>\n",
       "      <td>1</td>\n",
       "    </tr>\n",
       "    <tr>\n",
       "      <th>8</th>\n",
       "      <td>649939</td>\n",
       "      <td>digital</td>\n",
       "      <td>2</td>\n",
       "    </tr>\n",
       "    <tr>\n",
       "      <th>9</th>\n",
       "      <td>649964</td>\n",
       "      <td>albert</td>\n",
       "      <td>1</td>\n",
       "    </tr>\n",
       "    <tr>\n",
       "      <th>10</th>\n",
       "      <td>649964</td>\n",
       "      <td>chenee</td>\n",
       "      <td>3</td>\n",
       "    </tr>\n",
       "    <tr>\n",
       "      <th>11</th>\n",
       "      <td>649964</td>\n",
       "      <td>desirotte</td>\n",
       "      <td>1</td>\n",
       "    </tr>\n",
       "    <tr>\n",
       "      <th>12</th>\n",
       "      <td>649964</td>\n",
       "      <td>epschied</td>\n",
       "      <td>1</td>\n",
       "    </tr>\n",
       "    <tr>\n",
       "      <th>13</th>\n",
       "      <td>649964</td>\n",
       "      <td>laubach</td>\n",
       "      <td>1</td>\n",
       "    </tr>\n",
       "    <tr>\n",
       "      <th>14</th>\n",
       "      <td>649964</td>\n",
       "      <td>specht</td>\n",
       "      <td>5</td>\n",
       "    </tr>\n",
       "    <tr>\n",
       "      <th>15</th>\n",
       "      <td>650017</td>\n",
       "      <td>thiry</td>\n",
       "      <td>1</td>\n",
       "    </tr>\n",
       "    <tr>\n",
       "      <th>16</th>\n",
       "      <td>650056</td>\n",
       "      <td>registres paroissiaux paturages</td>\n",
       "      <td>1</td>\n",
       "    </tr>\n",
       "    <tr>\n",
       "      <th>17</th>\n",
       "      <td>650067</td>\n",
       "      <td>contracten kortrijk</td>\n",
       "      <td>1</td>\n",
       "    </tr>\n",
       "    <tr>\n",
       "      <th>18</th>\n",
       "      <td>650200</td>\n",
       "      <td>dentergem</td>\n",
       "      <td>1</td>\n",
       "    </tr>\n",
       "    <tr>\n",
       "      <th>19</th>\n",
       "      <td>650200</td>\n",
       "      <td>deurle</td>\n",
       "      <td>1</td>\n",
       "    </tr>\n",
       "    <tr>\n",
       "      <th>20</th>\n",
       "      <td>650200</td>\n",
       "      <td>ruiselede</td>\n",
       "      <td>1</td>\n",
       "    </tr>\n",
       "    <tr>\n",
       "      <th>21</th>\n",
       "      <td>650249</td>\n",
       "      <td>wallez</td>\n",
       "      <td>2</td>\n",
       "    </tr>\n",
       "    <tr>\n",
       "      <th>22</th>\n",
       "      <td>650378</td>\n",
       "      <td>bochmans</td>\n",
       "      <td>1</td>\n",
       "    </tr>\n",
       "    <tr>\n",
       "      <th>23</th>\n",
       "      <td>650406</td>\n",
       "      <td>de billehe</td>\n",
       "      <td>2</td>\n",
       "    </tr>\n",
       "    <tr>\n",
       "      <th>24</th>\n",
       "      <td>650470</td>\n",
       "      <td>photo du village de bellefontaine</td>\n",
       "      <td>3</td>\n",
       "    </tr>\n",
       "    <tr>\n",
       "      <th>25</th>\n",
       "      <td>650483</td>\n",
       "      <td>duyckaerts</td>\n",
       "      <td>2</td>\n",
       "    </tr>\n",
       "    <tr>\n",
       "      <th>26</th>\n",
       "      <td>650570</td>\n",
       "      <td>rommel</td>\n",
       "      <td>21</td>\n",
       "    </tr>\n",
       "    <tr>\n",
       "      <th>27</th>\n",
       "      <td>650570</td>\n",
       "      <td>schaken</td>\n",
       "      <td>3</td>\n",
       "    </tr>\n",
       "    <tr>\n",
       "      <th>28</th>\n",
       "      <td>650579</td>\n",
       "      <td>lorenzi giuseppe</td>\n",
       "      <td>1</td>\n",
       "    </tr>\n",
       "    <tr>\n",
       "      <th>29</th>\n",
       "      <td>650595</td>\n",
       "      <td>akten</td>\n",
       "      <td>11</td>\n",
       "    </tr>\n",
       "  </tbody>\n",
       "</table>\n",
       "</div>"
      ],
      "text/plain": [
       "    visitID                normalised_zoekterm  queries_count\n",
       "0    649717                              gotem              3\n",
       "1    649730                           couthuin              1\n",
       "2    649779                           dreesens              1\n",
       "3    649783             jonathan paleovrisotis              3\n",
       "4    649796                          antwerpen              1\n",
       "5    649796                           borsbeek              2\n",
       "6    649851     trouw christelle van keymeulen              1\n",
       "7    649867                          deffrenne              1\n",
       "8    649939                            digital              2\n",
       "9    649964                             albert              1\n",
       "10   649964                             chenee              3\n",
       "11   649964                          desirotte              1\n",
       "12   649964                           epschied              1\n",
       "13   649964                            laubach              1\n",
       "14   649964                             specht              5\n",
       "15   650017                              thiry              1\n",
       "16   650056    registres paroissiaux paturages              1\n",
       "17   650067                contracten kortrijk              1\n",
       "18   650200                          dentergem              1\n",
       "19   650200                             deurle              1\n",
       "20   650200                          ruiselede              1\n",
       "21   650249                             wallez              2\n",
       "22   650378                           bochmans              1\n",
       "23   650406                         de billehe              2\n",
       "24   650470  photo du village de bellefontaine              3\n",
       "25   650483                         duyckaerts              2\n",
       "26   650570                             rommel             21\n",
       "27   650570                            schaken              3\n",
       "28   650579                   lorenzi giuseppe              1\n",
       "29   650595                              akten             11"
      ]
     },
     "execution_count": 11,
     "metadata": {},
     "output_type": "execute_result"
    }
   ],
   "source": [
    "d = d.groupby(['visitID','normalised_zoekterm']).sum() #we want to keep each query only once, but keep track of the number of similar queries/visit \n",
    "d.reset_index(inplace=True)\n",
    "d.head(30)"
   ]
  },
  {
   "cell_type": "code",
   "execution_count": 73,
   "metadata": {
    "collapsed": false
   },
   "outputs": [
    {
     "data": {
      "text/plain": [
       "67426"
      ]
     },
     "execution_count": 73,
     "metadata": {},
     "output_type": "execute_result"
    }
   ],
   "source": [
    "len(d)"
   ]
  },
  {
   "cell_type": "code",
   "execution_count": 74,
   "metadata": {
    "collapsed": false
   },
   "outputs": [
    {
     "data": {
      "text/plain": [
       "181455"
      ]
     },
     "execution_count": 74,
     "metadata": {},
     "output_type": "execute_result"
    }
   ],
   "source": [
    "d.queries_count.sum() "
   ]
  },
  {
   "cell_type": "code",
   "execution_count": 75,
   "metadata": {
    "collapsed": false
   },
   "outputs": [
    {
     "data": {
      "text/plain": [
       "42046"
      ]
     },
     "execution_count": 75,
     "metadata": {},
     "output_type": "execute_result"
    }
   ],
   "source": [
    "len(list(set(d.visitID.tolist()))) "
   ]
  },
  {
   "cell_type": "code",
   "execution_count": 76,
   "metadata": {
    "collapsed": false
   },
   "outputs": [],
   "source": [
    "d.to_csv('/output/C_cleaning_without_duplicates.csv')"
   ]
  },
  {
   "cell_type": "markdown",
   "metadata": {},
   "source": [
    "## Optional step to count the number of requests/session"
   ]
  },
  {
   "cell_type": "code",
   "execution_count": 12,
   "metadata": {
    "collapsed": false
   },
   "outputs": [
    {
     "data": {
      "text/html": [
       "<div>\n",
       "<table border=\"1\" class=\"dataframe\">\n",
       "  <thead>\n",
       "    <tr style=\"text-align: right;\">\n",
       "      <th></th>\n",
       "      <th>visitID</th>\n",
       "      <th>queries_count</th>\n",
       "      <th>no</th>\n",
       "    </tr>\n",
       "  </thead>\n",
       "  <tbody>\n",
       "    <tr>\n",
       "      <th>0</th>\n",
       "      <td>649717</td>\n",
       "      <td>3</td>\n",
       "      <td>1</td>\n",
       "    </tr>\n",
       "    <tr>\n",
       "      <th>1</th>\n",
       "      <td>649730</td>\n",
       "      <td>1</td>\n",
       "      <td>1</td>\n",
       "    </tr>\n",
       "    <tr>\n",
       "      <th>2</th>\n",
       "      <td>649779</td>\n",
       "      <td>1</td>\n",
       "      <td>1</td>\n",
       "    </tr>\n",
       "    <tr>\n",
       "      <th>3</th>\n",
       "      <td>649783</td>\n",
       "      <td>3</td>\n",
       "      <td>1</td>\n",
       "    </tr>\n",
       "    <tr>\n",
       "      <th>4</th>\n",
       "      <td>649796</td>\n",
       "      <td>1</td>\n",
       "      <td>1</td>\n",
       "    </tr>\n",
       "    <tr>\n",
       "      <th>5</th>\n",
       "      <td>649796</td>\n",
       "      <td>2</td>\n",
       "      <td>1</td>\n",
       "    </tr>\n",
       "    <tr>\n",
       "      <th>6</th>\n",
       "      <td>649851</td>\n",
       "      <td>1</td>\n",
       "      <td>1</td>\n",
       "    </tr>\n",
       "    <tr>\n",
       "      <th>7</th>\n",
       "      <td>649867</td>\n",
       "      <td>1</td>\n",
       "      <td>1</td>\n",
       "    </tr>\n",
       "    <tr>\n",
       "      <th>8</th>\n",
       "      <td>649939</td>\n",
       "      <td>2</td>\n",
       "      <td>1</td>\n",
       "    </tr>\n",
       "    <tr>\n",
       "      <th>9</th>\n",
       "      <td>649964</td>\n",
       "      <td>1</td>\n",
       "      <td>1</td>\n",
       "    </tr>\n",
       "  </tbody>\n",
       "</table>\n",
       "</div>"
      ],
      "text/plain": [
       "   visitID  queries_count no\n",
       "0   649717              3  1\n",
       "1   649730              1  1\n",
       "2   649779              1  1\n",
       "3   649783              3  1\n",
       "4   649796              1  1\n",
       "5   649796              2  1\n",
       "6   649851              1  1\n",
       "7   649867              1  1\n",
       "8   649939              2  1\n",
       "9   649964              1  1"
      ]
     },
     "execution_count": 12,
     "metadata": {},
     "output_type": "execute_result"
    }
   ],
   "source": [
    "dno = d.copy()\n",
    "dno['no'] = '1'\n",
    "dno = dno[['visitID','queries_count','no']]\n",
    "dno.head(10)"
   ]
  },
  {
   "cell_type": "code",
   "execution_count": 13,
   "metadata": {
    "collapsed": false
   },
   "outputs": [
    {
     "data": {
      "text/html": [
       "<div>\n",
       "<table border=\"1\" class=\"dataframe\">\n",
       "  <thead>\n",
       "    <tr style=\"text-align: right;\">\n",
       "      <th></th>\n",
       "      <th>visitID</th>\n",
       "      <th>no</th>\n",
       "      <th>requests</th>\n",
       "    </tr>\n",
       "  </thead>\n",
       "  <tbody>\n",
       "    <tr>\n",
       "      <th>0</th>\n",
       "      <td>649717</td>\n",
       "      <td>1</td>\n",
       "      <td>1</td>\n",
       "    </tr>\n",
       "    <tr>\n",
       "      <th>1</th>\n",
       "      <td>649730</td>\n",
       "      <td>1</td>\n",
       "      <td>1</td>\n",
       "    </tr>\n",
       "    <tr>\n",
       "      <th>2</th>\n",
       "      <td>649779</td>\n",
       "      <td>1</td>\n",
       "      <td>1</td>\n",
       "    </tr>\n",
       "    <tr>\n",
       "      <th>3</th>\n",
       "      <td>649783</td>\n",
       "      <td>1</td>\n",
       "      <td>1</td>\n",
       "    </tr>\n",
       "    <tr>\n",
       "      <th>4</th>\n",
       "      <td>649796</td>\n",
       "      <td>1</td>\n",
       "      <td>2</td>\n",
       "    </tr>\n",
       "  </tbody>\n",
       "</table>\n",
       "</div>"
      ],
      "text/plain": [
       "   visitID no  requests\n",
       "0   649717  1         1\n",
       "1   649730  1         1\n",
       "2   649779  1         1\n",
       "3   649783  1         1\n",
       "4   649796  1         2"
      ]
     },
     "execution_count": 13,
     "metadata": {},
     "output_type": "execute_result"
    }
   ],
   "source": [
    "dno = dno.groupby(['visitID','no']).count()\n",
    "dno.reset_index(inplace=True)\n",
    "dno = dno.rename(columns = {'queries_count':'requests'})\n",
    "dno.head(5)"
   ]
  },
  {
   "cell_type": "code",
   "execution_count": 14,
   "metadata": {
    "collapsed": false
   },
   "outputs": [
    {
     "data": {
      "text/plain": [
       "1.6036246016267897"
      ]
     },
     "execution_count": 14,
     "metadata": {},
     "output_type": "execute_result"
    }
   ],
   "source": [
    "dno[\"requests\"].mean()"
   ]
  },
  {
   "cell_type": "code",
   "execution_count": 15,
   "metadata": {
    "collapsed": false
   },
   "outputs": [
    {
     "data": {
      "text/plain": [
       "67426"
      ]
     },
     "execution_count": 15,
     "metadata": {},
     "output_type": "execute_result"
    }
   ],
   "source": [
    "dno[\"requests\"].sum()"
   ]
  },
  {
   "cell_type": "code",
   "execution_count": 17,
   "metadata": {
    "collapsed": false
   },
   "outputs": [
    {
     "data": {
      "text/plain": [
       "42046"
      ]
     },
     "execution_count": 17,
     "metadata": {},
     "output_type": "execute_result"
    }
   ],
   "source": [
    "len(dno)"
   ]
  },
  {
   "cell_type": "code",
   "execution_count": 19,
   "metadata": {
    "collapsed": true
   },
   "outputs": [],
   "source": [
    "dno.to_csv('output/number_of_requests_by_visit.csv')"
   ]
  },
  {
   "cell_type": "markdown",
   "metadata": {},
   "source": [
    "# D) CLUSTERING "
   ]
  },
  {
   "cell_type": "code",
   "execution_count": 77,
   "metadata": {
    "collapsed": false
   },
   "outputs": [],
   "source": [
    "input = d[['normalised_zoekterm']] #we keep only the normalised queries"
   ]
  },
  {
   "cell_type": "code",
   "execution_count": 78,
   "metadata": {
    "collapsed": true
   },
   "outputs": [],
   "source": [
    "input.to_csv('../_SEARCH/OUTPUT/5_inputClusterV4.csv', index=False, header=False) "
   ]
  },
  {
   "cell_type": "code",
   "execution_count": 79,
   "metadata": {
    "collapsed": false
   },
   "outputs": [
    {
     "data": {
      "text/html": [
       "<div>\n",
       "<table border=\"1\" class=\"dataframe\">\n",
       "  <thead>\n",
       "    <tr style=\"text-align: right;\">\n",
       "      <th></th>\n",
       "      <th>normalised_zoekterm</th>\n",
       "    </tr>\n",
       "  </thead>\n",
       "  <tbody>\n",
       "    <tr>\n",
       "      <th>0</th>\n",
       "      <td>gotem</td>\n",
       "    </tr>\n",
       "    <tr>\n",
       "      <th>1</th>\n",
       "      <td>couthuin</td>\n",
       "    </tr>\n",
       "    <tr>\n",
       "      <th>2</th>\n",
       "      <td>dreesens</td>\n",
       "    </tr>\n",
       "    <tr>\n",
       "      <th>3</th>\n",
       "      <td>jonathan paleovrisotis</td>\n",
       "    </tr>\n",
       "    <tr>\n",
       "      <th>4</th>\n",
       "      <td>antwerpen</td>\n",
       "    </tr>\n",
       "  </tbody>\n",
       "</table>\n",
       "</div>"
      ],
      "text/plain": [
       "      normalised_zoekterm\n",
       "0                   gotem\n",
       "1                couthuin\n",
       "2                dreesens\n",
       "3  jonathan paleovrisotis\n",
       "4               antwerpen"
      ]
     },
     "execution_count": 79,
     "metadata": {},
     "output_type": "execute_result"
    }
   ],
   "source": [
    "input.head()"
   ]
  },
  {
   "cell_type": "markdown",
   "metadata": {},
   "source": [
    "# 6_clustersIndex.csv"
   ]
  },
  {
   "cell_type": "code",
   "execution_count": 80,
   "metadata": {
    "collapsed": true
   },
   "outputs": [],
   "source": [
    "import os, sys, getopt, io\n",
    "import json, random, jellyfish\n",
    "from bs4 import BeautifulSoup as bs\n",
    "from collections import defaultdict\n",
    "from jellyfish import levenshtein_distance as ld, jaro_distance"
   ]
  },
  {
   "cell_type": "markdown",
   "metadata": {},
   "source": [
    "### étape ci-dessous : ouput pas 100% fiable, ça a été fait en passant en commentaires le \"else\" qui pose problème"
   ]
  },
  {
   "cell_type": "code",
   "execution_count": 104,
   "metadata": {
    "collapsed": false
   },
   "outputs": [],
   "source": [
    "import re, codecs, os, sys, getopt, io\n",
    "import json, random, jellyfish\n",
    "from urllib.request import urlopen\n",
    "from bs4 import BeautifulSoup as bs\n",
    "from collections import defaultdict\n",
    "from jellyfish import levenshtein_distance as ld, jaro_distance\n",
    "\n",
    "content = [line.rstrip('\\n') for line in io.open('../_SEARCH/OUTPUT/5_inputClusterV4.csv')]\n",
    "\n",
    "result = open('/Users/researcher/Documents/Analyse/CATALOGUES/_SEARCH/output/6_Search_clusters-85_ANNE.txt',\"a\")\n",
    "\n",
    "Clusters = []\n",
    "Centroid = []\n",
    "Scores = []\n",
    "for string in content:\n",
    "    Matched = 0\n",
    "\n",
    "    if len(Clusters) == 0:\n",
    "        Clusters.append([string])\n",
    "        Centroid.append([string])\n",
    "        Scores.append([])\n",
    "        continue\n",
    "\n",
    "    for ClustNum in range(len(Clusters)):\n",
    "        Dist = jellyfish.jaro_distance(string, Centroid[ClustNum][0])\n",
    "\n",
    "        if Dist > 0.85:\n",
    "            Clusters[ClustNum].append(string)\n",
    "       \n",
    "            if len(Scores[ClustNum]) == 0:\n",
    "                Scores[ClustNum].append(Dist)\n",
    "\n",
    "            #else:\n",
    "             #   if Dist > Scores[ClustNum]:\n",
    "              #    Scores[ClustNum][0] = Dist\n",
    "               #     Centroid[ClustNum][0] = string\n",
    "\n",
    "            Matched = 1\n",
    "            break\n",
    "\n",
    "    if Matched ==0:       \n",
    "        Clusters.append([string])\n",
    "        Centroid.append([string])\n",
    "        Scores.append([])\n",
    "        \n",
    "size = len(Clusters)\n",
    "\n",
    "x = 0\n",
    "\n",
    "while x < size:\n",
    "    cluster = Clusters[x]\n",
    "    centroid = Centroid[x]\n",
    "    \n",
    "    list = []\n",
    "    for cl in cluster:\n",
    "        list.append(str(cl) + '\\t' + str(centroid[0]))\n",
    "    \n",
    "    result.write('\\n'.join(list))\n",
    "    result.write('\\n')\n",
    "\n",
    "    x = x+1\n",
    "                    \n",
    "result.close()\n"
   ]
  },
  {
   "cell_type": "markdown",
   "metadata": {
    "collapsed": true
   },
   "source": [
    "# 7_clusterDataReconciliation"
   ]
  },
  {
   "cell_type": "code",
   "execution_count": 93,
   "metadata": {
    "collapsed": false
   },
   "outputs": [],
   "source": [
    "d = pd.read_csv('../_SEARCH/OUTPUT/4_uniquesQueriesVisits_normalisedv4.csv')"
   ]
  },
  {
   "cell_type": "code",
   "execution_count": 95,
   "metadata": {
    "collapsed": false
   },
   "outputs": [],
   "source": [
    "d = d.drop('Unnamed: 0', axis = 1)"
   ]
  },
  {
   "cell_type": "code",
   "execution_count": 96,
   "metadata": {
    "collapsed": false
   },
   "outputs": [
    {
     "data": {
      "text/html": [
       "<div>\n",
       "<table border=\"1\" class=\"dataframe\">\n",
       "  <thead>\n",
       "    <tr style=\"text-align: right;\">\n",
       "      <th></th>\n",
       "      <th>visitID</th>\n",
       "      <th>normalised_zoekterm</th>\n",
       "      <th>queries_count</th>\n",
       "    </tr>\n",
       "  </thead>\n",
       "  <tbody>\n",
       "    <tr>\n",
       "      <th>0</th>\n",
       "      <td>649717</td>\n",
       "      <td>gotem</td>\n",
       "      <td>3</td>\n",
       "    </tr>\n",
       "    <tr>\n",
       "      <th>1</th>\n",
       "      <td>649730</td>\n",
       "      <td>couthuin</td>\n",
       "      <td>1</td>\n",
       "    </tr>\n",
       "    <tr>\n",
       "      <th>2</th>\n",
       "      <td>649779</td>\n",
       "      <td>dreesens</td>\n",
       "      <td>1</td>\n",
       "    </tr>\n",
       "    <tr>\n",
       "      <th>3</th>\n",
       "      <td>649783</td>\n",
       "      <td>jonathan paleovrisotis</td>\n",
       "      <td>3</td>\n",
       "    </tr>\n",
       "    <tr>\n",
       "      <th>4</th>\n",
       "      <td>649796</td>\n",
       "      <td>antwerpen</td>\n",
       "      <td>1</td>\n",
       "    </tr>\n",
       "  </tbody>\n",
       "</table>\n",
       "</div>"
      ],
      "text/plain": [
       "   visitID     normalised_zoekterm  queries_count\n",
       "0   649717                   gotem              3\n",
       "1   649730                couthuin              1\n",
       "2   649779                dreesens              1\n",
       "3   649783  jonathan paleovrisotis              3\n",
       "4   649796               antwerpen              1"
      ]
     },
     "execution_count": 96,
     "metadata": {},
     "output_type": "execute_result"
    }
   ],
   "source": [
    "d.head()"
   ]
  },
  {
   "cell_type": "code",
   "execution_count": 89,
   "metadata": {
    "collapsed": false
   },
   "outputs": [],
   "source": [
    "clu = pd.read_csv('/Users/researcher/Documents/Analyse/CATALOGUES/_SEARCH/output/6_Search_clusters-88_v4.txt', sep='\\t', header=None)"
   ]
  },
  {
   "cell_type": "code",
   "execution_count": 90,
   "metadata": {
    "collapsed": false
   },
   "outputs": [],
   "source": [
    "clu.columns = ['queries','clusters']"
   ]
  },
  {
   "cell_type": "code",
   "execution_count": 91,
   "metadata": {
    "collapsed": false
   },
   "outputs": [
    {
     "data": {
      "text/html": [
       "<div>\n",
       "<table border=\"1\" class=\"dataframe\">\n",
       "  <thead>\n",
       "    <tr style=\"text-align: right;\">\n",
       "      <th></th>\n",
       "      <th>queries</th>\n",
       "      <th>clusters</th>\n",
       "    </tr>\n",
       "  </thead>\n",
       "  <tbody>\n",
       "    <tr>\n",
       "      <th>0</th>\n",
       "      <td>gotem</td>\n",
       "      <td>gotem</td>\n",
       "    </tr>\n",
       "    <tr>\n",
       "      <th>1</th>\n",
       "      <td>gotem</td>\n",
       "      <td>gotem</td>\n",
       "    </tr>\n",
       "    <tr>\n",
       "      <th>2</th>\n",
       "      <td>gottem</td>\n",
       "      <td>gotem</td>\n",
       "    </tr>\n",
       "    <tr>\n",
       "      <th>3</th>\n",
       "      <td>gottem</td>\n",
       "      <td>gotem</td>\n",
       "    </tr>\n",
       "    <tr>\n",
       "      <th>4</th>\n",
       "      <td>gottem</td>\n",
       "      <td>gotem</td>\n",
       "    </tr>\n",
       "  </tbody>\n",
       "</table>\n",
       "</div>"
      ],
      "text/plain": [
       "  queries clusters\n",
       "0   gotem    gotem\n",
       "1   gotem    gotem\n",
       "2  gottem    gotem\n",
       "3  gottem    gotem\n",
       "4  gottem    gotem"
      ]
     },
     "execution_count": 91,
     "metadata": {},
     "output_type": "execute_result"
    }
   ],
   "source": [
    "clu.head()"
   ]
  },
  {
   "cell_type": "code",
   "execution_count": 92,
   "metadata": {
    "collapsed": false
   },
   "outputs": [
    {
     "data": {
      "text/plain": [
       "37399"
      ]
     },
     "execution_count": 92,
     "metadata": {},
     "output_type": "execute_result"
    }
   ],
   "source": [
    "len(set(clu.queries.tolist()))"
   ]
  },
  {
   "cell_type": "code",
   "execution_count": 145,
   "metadata": {
    "collapsed": false
   },
   "outputs": [
    {
     "data": {
      "text/plain": [
       "11637"
      ]
     },
     "execution_count": 145,
     "metadata": {},
     "output_type": "execute_result"
    }
   ],
   "source": [
    "len(set(clu.clusters.tolist()))"
   ]
  },
  {
   "cell_type": "code",
   "execution_count": 158,
   "metadata": {
    "collapsed": true
   },
   "outputs": [],
   "source": [
    "def get_cluster(clu, text):\n",
    "    out = \"\"\n",
    "    try:\n",
    "        out = clu.loc[clu.queries == text, 'clusters'].values[0]\n",
    "    except:\n",
    "        out = \"NAN (cluster not found)\"\n",
    "    return out"
   ]
  },
  {
   "cell_type": "code",
   "execution_count": 161,
   "metadata": {
    "collapsed": false
   },
   "outputs": [],
   "source": [
    "d['cluster'] = \"\""
   ]
  },
  {
   "cell_type": "code",
   "execution_count": 169,
   "metadata": {
    "collapsed": false
   },
   "outputs": [
    {
     "name": "stdout",
     "output_type": "stream",
     "text": [
      "100 %"
     ]
    }
   ],
   "source": [
    "c = Counter(d)\n",
    "for i, r in d.iterrows():\n",
    "    c.loop()\n",
    "    \n",
    "    text = r.normalised_zoekterm\n",
    "    d.loc[i, 'cluster'] = get_cluster(clu, text)"
   ]
  },
  {
   "cell_type": "code",
   "execution_count": 170,
   "metadata": {
    "collapsed": false
   },
   "outputs": [
    {
     "data": {
      "text/plain": [
       "11637"
      ]
     },
     "execution_count": 170,
     "metadata": {},
     "output_type": "execute_result"
    }
   ],
   "source": [
    "len(set(d.cluster.tolist()))"
   ]
  },
  {
   "cell_type": "code",
   "execution_count": 174,
   "metadata": {
    "collapsed": false
   },
   "outputs": [],
   "source": [
    "d = d[['cluster','queries_count','normalised_zoekterm','visitID']]"
   ]
  },
  {
   "cell_type": "code",
   "execution_count": 178,
   "metadata": {
    "collapsed": false
   },
   "outputs": [
    {
     "data": {
      "text/html": [
       "<div>\n",
       "<table border=\"1\" class=\"dataframe\">\n",
       "  <thead>\n",
       "    <tr style=\"text-align: right;\">\n",
       "      <th></th>\n",
       "      <th>cluster</th>\n",
       "      <th>queries_count</th>\n",
       "      <th>normalised_zoekterm</th>\n",
       "      <th>visitID</th>\n",
       "    </tr>\n",
       "  </thead>\n",
       "  <tbody>\n",
       "    <tr>\n",
       "      <th>43539</th>\n",
       "      <td>0 0137</td>\n",
       "      <td>2</td>\n",
       "      <td>0 0137</td>\n",
       "      <td>1566570</td>\n",
       "    </tr>\n",
       "    <tr>\n",
       "      <th>16541</th>\n",
       "      <td>0 277 000</td>\n",
       "      <td>1</td>\n",
       "      <td>0 277 000</td>\n",
       "      <td>999074</td>\n",
       "    </tr>\n",
       "    <tr>\n",
       "      <th>25126</th>\n",
       "      <td>000</td>\n",
       "      <td>6</td>\n",
       "      <td>000</td>\n",
       "      <td>1170617</td>\n",
       "    </tr>\n",
       "    <tr>\n",
       "      <th>12959</th>\n",
       "      <td>0002 001 00217 000 0 0001</td>\n",
       "      <td>1</td>\n",
       "      <td>0500 000 02531 000 0 0003</td>\n",
       "      <td>923985</td>\n",
       "    </tr>\n",
       "    <tr>\n",
       "      <th>20287</th>\n",
       "      <td>0002 001 00217 000 0 0001</td>\n",
       "      <td>1</td>\n",
       "      <td>0001 072 00007 000 0 0003</td>\n",
       "      <td>1074043</td>\n",
       "    </tr>\n",
       "    <tr>\n",
       "      <th>31344</th>\n",
       "      <td>0002 001 00217 000 0 0001</td>\n",
       "      <td>1</td>\n",
       "      <td>0500 000 02358 000 0 0001</td>\n",
       "      <td>1297143</td>\n",
       "    </tr>\n",
       "    <tr>\n",
       "      <th>4731</th>\n",
       "      <td>0002 001 00217 000 0 0001</td>\n",
       "      <td>2</td>\n",
       "      <td>0001 078 00004 000 0 0002</td>\n",
       "      <td>752123</td>\n",
       "    </tr>\n",
       "    <tr>\n",
       "      <th>4733</th>\n",
       "      <td>0002 001 00217 000 0 0001</td>\n",
       "      <td>2</td>\n",
       "      <td>0500 000 02190 000 0 0001 r</td>\n",
       "      <td>752201</td>\n",
       "    </tr>\n",
       "    <tr>\n",
       "      <th>29550</th>\n",
       "      <td>0002 001 00217 000 0 0001</td>\n",
       "      <td>2</td>\n",
       "      <td>0001 132 00003 000 0 0001</td>\n",
       "      <td>1261297</td>\n",
       "    </tr>\n",
       "    <tr>\n",
       "      <th>50987</th>\n",
       "      <td>0002 001 00217 000 0 0001</td>\n",
       "      <td>2</td>\n",
       "      <td>0001 040 00001 000 0 0001</td>\n",
       "      <td>1735044</td>\n",
       "    </tr>\n",
       "    <tr>\n",
       "      <th>19928</th>\n",
       "      <td>0002 001 00217 000 0 0001</td>\n",
       "      <td>3</td>\n",
       "      <td>0236 000 01070 000 0 0452</td>\n",
       "      <td>1068852</td>\n",
       "    </tr>\n",
       "    <tr>\n",
       "      <th>33127</th>\n",
       "      <td>0002 001 00217 000 0 0001</td>\n",
       "      <td>1</td>\n",
       "      <td>513 9000 000 01241 000 0 0002 r</td>\n",
       "      <td>1339269</td>\n",
       "    </tr>\n",
       "    <tr>\n",
       "      <th>18154</th>\n",
       "      <td>0002 001 00217 000 0 0001</td>\n",
       "      <td>2</td>\n",
       "      <td>0900 000 00110 000 0 0203 r</td>\n",
       "      <td>1031264</td>\n",
       "    </tr>\n",
       "    <tr>\n",
       "      <th>27658</th>\n",
       "      <td>0002 001 00217 000 0 0001</td>\n",
       "      <td>1</td>\n",
       "      <td>6000 000 00036 000 0 0001</td>\n",
       "      <td>1220974</td>\n",
       "    </tr>\n",
       "    <tr>\n",
       "      <th>19295</th>\n",
       "      <td>0002 001 00217 000 0 0001</td>\n",
       "      <td>1</td>\n",
       "      <td>5 000 00 00420 000b 0161</td>\n",
       "      <td>1055588</td>\n",
       "    </tr>\n",
       "    <tr>\n",
       "      <th>36282</th>\n",
       "      <td>0002 001 00217 000 0 0001</td>\n",
       "      <td>2</td>\n",
       "      <td>0698 000 01006 000 0 0001</td>\n",
       "      <td>1411417</td>\n",
       "    </tr>\n",
       "    <tr>\n",
       "      <th>2470</th>\n",
       "      <td>0002 001 00217 000 0 0001</td>\n",
       "      <td>2</td>\n",
       "      <td>9000 000 01378 000 0 0001</td>\n",
       "      <td>704985</td>\n",
       "    </tr>\n",
       "    <tr>\n",
       "      <th>1309</th>\n",
       "      <td>0002 001 00217 000 0 0001</td>\n",
       "      <td>3</td>\n",
       "      <td>0269 000 00001 000 b 0001 r</td>\n",
       "      <td>679498</td>\n",
       "    </tr>\n",
       "    <tr>\n",
       "      <th>54595</th>\n",
       "      <td>0002 001 00217 000 0 0001</td>\n",
       "      <td>2</td>\n",
       "      <td>510 0002 000 01256 000 0 0001</td>\n",
       "      <td>1815037</td>\n",
       "    </tr>\n",
       "    <tr>\n",
       "      <th>42384</th>\n",
       "      <td>0002 001 00217 000 0 0001</td>\n",
       "      <td>1</td>\n",
       "      <td>0002 001 00217 000 0 0001</td>\n",
       "      <td>1542355</td>\n",
       "    </tr>\n",
       "    <tr>\n",
       "      <th>51003</th>\n",
       "      <td>0002 001 00217 000 0 0001</td>\n",
       "      <td>1</td>\n",
       "      <td>5000 000 00601 000 0 0114 a</td>\n",
       "      <td>1735259</td>\n",
       "    </tr>\n",
       "    <tr>\n",
       "      <th>51926</th>\n",
       "      <td>0002 001 00217 000 0 0001</td>\n",
       "      <td>12</td>\n",
       "      <td>0308 000 00009 000 r 001</td>\n",
       "      <td>1756426</td>\n",
       "    </tr>\n",
       "    <tr>\n",
       "      <th>32441</th>\n",
       "      <td>0002 001 00217 000 0 0001</td>\n",
       "      <td>1</td>\n",
       "      <td>0394 000 00609 000 0 0500</td>\n",
       "      <td>1322273</td>\n",
       "    </tr>\n",
       "    <tr>\n",
       "      <th>11997</th>\n",
       "      <td>0002 001 00217 000 0 0001</td>\n",
       "      <td>1</td>\n",
       "      <td>0 500 000 01021 000 0 0001</td>\n",
       "      <td>905055</td>\n",
       "    </tr>\n",
       "    <tr>\n",
       "      <th>52759</th>\n",
       "      <td>0002 001 00217 000 0 0001</td>\n",
       "      <td>5</td>\n",
       "      <td>0500 000 01211 000 0 0001 r</td>\n",
       "      <td>1773691</td>\n",
       "    </tr>\n",
       "    <tr>\n",
       "      <th>16646</th>\n",
       "      <td>00stkamp</td>\n",
       "      <td>9</td>\n",
       "      <td>oostkamp</td>\n",
       "      <td>1001064</td>\n",
       "    </tr>\n",
       "    <tr>\n",
       "      <th>47623</th>\n",
       "      <td>00stkamp</td>\n",
       "      <td>5</td>\n",
       "      <td>oostkamp</td>\n",
       "      <td>1662312</td>\n",
       "    </tr>\n",
       "    <tr>\n",
       "      <th>46923</th>\n",
       "      <td>00stkamp</td>\n",
       "      <td>2</td>\n",
       "      <td>oostkamp</td>\n",
       "      <td>1643557</td>\n",
       "    </tr>\n",
       "    <tr>\n",
       "      <th>46901</th>\n",
       "      <td>00stkamp</td>\n",
       "      <td>2</td>\n",
       "      <td>oostkamp</td>\n",
       "      <td>1642980</td>\n",
       "    </tr>\n",
       "    <tr>\n",
       "      <th>47458</th>\n",
       "      <td>00stkamp</td>\n",
       "      <td>6</td>\n",
       "      <td>oostkamp</td>\n",
       "      <td>1658177</td>\n",
       "    </tr>\n",
       "    <tr>\n",
       "      <th>...</th>\n",
       "      <td>...</td>\n",
       "      <td>...</td>\n",
       "      <td>...</td>\n",
       "      <td>...</td>\n",
       "    </tr>\n",
       "    <tr>\n",
       "      <th>42758</th>\n",
       "      <td>zwaluwe</td>\n",
       "      <td>6</td>\n",
       "      <td>zwaluwe</td>\n",
       "      <td>1550368</td>\n",
       "    </tr>\n",
       "    <tr>\n",
       "      <th>2318</th>\n",
       "      <td>zwangssoldat</td>\n",
       "      <td>1</td>\n",
       "      <td>zwangssoldaten</td>\n",
       "      <td>701691</td>\n",
       "    </tr>\n",
       "    <tr>\n",
       "      <th>2317</th>\n",
       "      <td>zwangssoldat</td>\n",
       "      <td>1</td>\n",
       "      <td>zwangssoldat</td>\n",
       "      <td>701691</td>\n",
       "    </tr>\n",
       "    <tr>\n",
       "      <th>20674</th>\n",
       "      <td>zwarte dood</td>\n",
       "      <td>1</td>\n",
       "      <td>zwarte dood</td>\n",
       "      <td>1081274</td>\n",
       "    </tr>\n",
       "    <tr>\n",
       "      <th>36793</th>\n",
       "      <td>zwartzusters</td>\n",
       "      <td>1</td>\n",
       "      <td>zwartzusters</td>\n",
       "      <td>1422187</td>\n",
       "    </tr>\n",
       "    <tr>\n",
       "      <th>20367</th>\n",
       "      <td>zwijndrecht</td>\n",
       "      <td>1</td>\n",
       "      <td>zwijnaarde</td>\n",
       "      <td>1075361</td>\n",
       "    </tr>\n",
       "    <tr>\n",
       "      <th>14951</th>\n",
       "      <td>zwijndrecht</td>\n",
       "      <td>1</td>\n",
       "      <td>zijde</td>\n",
       "      <td>964497</td>\n",
       "    </tr>\n",
       "    <tr>\n",
       "      <th>48037</th>\n",
       "      <td>zwijndrecht</td>\n",
       "      <td>2</td>\n",
       "      <td>zwijndrecht kapelstraat</td>\n",
       "      <td>1671348</td>\n",
       "    </tr>\n",
       "    <tr>\n",
       "      <th>48036</th>\n",
       "      <td>zwijndrecht</td>\n",
       "      <td>2</td>\n",
       "      <td>zwijndrecht</td>\n",
       "      <td>1671348</td>\n",
       "    </tr>\n",
       "    <tr>\n",
       "      <th>46313</th>\n",
       "      <td>zwijndrecht</td>\n",
       "      <td>6</td>\n",
       "      <td>zwijndrecht</td>\n",
       "      <td>1627800</td>\n",
       "    </tr>\n",
       "    <tr>\n",
       "      <th>19988</th>\n",
       "      <td>zwijndrecht</td>\n",
       "      <td>1</td>\n",
       "      <td>zwijnaarde</td>\n",
       "      <td>1069700</td>\n",
       "    </tr>\n",
       "    <tr>\n",
       "      <th>24416</th>\n",
       "      <td>zwijndrecht</td>\n",
       "      <td>3</td>\n",
       "      <td>zwijndrecht</td>\n",
       "      <td>1157993</td>\n",
       "    </tr>\n",
       "    <tr>\n",
       "      <th>3545</th>\n",
       "      <td>zwijndrecht</td>\n",
       "      <td>1</td>\n",
       "      <td>zwijndrecht</td>\n",
       "      <td>728117</td>\n",
       "    </tr>\n",
       "    <tr>\n",
       "      <th>20445</th>\n",
       "      <td>zwijndrecht</td>\n",
       "      <td>6</td>\n",
       "      <td>zwijnaarde</td>\n",
       "      <td>1076798</td>\n",
       "    </tr>\n",
       "    <tr>\n",
       "      <th>43744</th>\n",
       "      <td>zwijndrecht</td>\n",
       "      <td>3</td>\n",
       "      <td>su zwinjdrecht</td>\n",
       "      <td>1570175</td>\n",
       "    </tr>\n",
       "    <tr>\n",
       "      <th>28448</th>\n",
       "      <td>zwijndrecht</td>\n",
       "      <td>1</td>\n",
       "      <td>zwijndrecht</td>\n",
       "      <td>1239027</td>\n",
       "    </tr>\n",
       "    <tr>\n",
       "      <th>43746</th>\n",
       "      <td>zwijndrecht</td>\n",
       "      <td>1</td>\n",
       "      <td>zwinjdrecht</td>\n",
       "      <td>1570175</td>\n",
       "    </tr>\n",
       "    <tr>\n",
       "      <th>3792</th>\n",
       "      <td>zwijndrecht</td>\n",
       "      <td>6</td>\n",
       "      <td>zwijndrecht</td>\n",
       "      <td>732849</td>\n",
       "    </tr>\n",
       "    <tr>\n",
       "      <th>2415</th>\n",
       "      <td>zwijndrecht</td>\n",
       "      <td>1</td>\n",
       "      <td>zwijnaarde</td>\n",
       "      <td>703301</td>\n",
       "    </tr>\n",
       "    <tr>\n",
       "      <th>18312</th>\n",
       "      <td>zwijnland</td>\n",
       "      <td>2</td>\n",
       "      <td>wijnants</td>\n",
       "      <td>1034836</td>\n",
       "    </tr>\n",
       "    <tr>\n",
       "      <th>53918</th>\n",
       "      <td>zwijnland</td>\n",
       "      <td>4</td>\n",
       "      <td>winand</td>\n",
       "      <td>1800653</td>\n",
       "    </tr>\n",
       "    <tr>\n",
       "      <th>1469</th>\n",
       "      <td>zwijnland</td>\n",
       "      <td>3</td>\n",
       "      <td>wijnants</td>\n",
       "      <td>683622</td>\n",
       "    </tr>\n",
       "    <tr>\n",
       "      <th>24216</th>\n",
       "      <td>zwijnland</td>\n",
       "      <td>2</td>\n",
       "      <td>wijnants</td>\n",
       "      <td>1153881</td>\n",
       "    </tr>\n",
       "    <tr>\n",
       "      <th>43103</th>\n",
       "      <td>zwijnland</td>\n",
       "      <td>2</td>\n",
       "      <td>zwin</td>\n",
       "      <td>1557487</td>\n",
       "    </tr>\n",
       "    <tr>\n",
       "      <th>24765</th>\n",
       "      <td>zwijnland</td>\n",
       "      <td>3</td>\n",
       "      <td>winand</td>\n",
       "      <td>1164138</td>\n",
       "    </tr>\n",
       "    <tr>\n",
       "      <th>17658</th>\n",
       "      <td>zwijnland</td>\n",
       "      <td>2</td>\n",
       "      <td>wijnants</td>\n",
       "      <td>1021126</td>\n",
       "    </tr>\n",
       "    <tr>\n",
       "      <th>37397</th>\n",
       "      <td>zwijnland</td>\n",
       "      <td>2</td>\n",
       "      <td>zwin</td>\n",
       "      <td>1434744</td>\n",
       "    </tr>\n",
       "    <tr>\n",
       "      <th>9273</th>\n",
       "      <td>zwijnland</td>\n",
       "      <td>1</td>\n",
       "      <td>zwijnland</td>\n",
       "      <td>850430</td>\n",
       "    </tr>\n",
       "    <tr>\n",
       "      <th>18511</th>\n",
       "      <td>zwijnland</td>\n",
       "      <td>1</td>\n",
       "      <td>zwin</td>\n",
       "      <td>1039214</td>\n",
       "    </tr>\n",
       "    <tr>\n",
       "      <th>51080</th>\n",
       "      <td>zwzvzzele</td>\n",
       "      <td>1</td>\n",
       "      <td>zwzvzzele</td>\n",
       "      <td>1736770</td>\n",
       "    </tr>\n",
       "  </tbody>\n",
       "</table>\n",
       "<p>54694 rows × 4 columns</p>\n",
       "</div>"
      ],
      "text/plain": [
       "                         cluster  queries_count  \\\n",
       "43539                     0 0137              2   \n",
       "16541                  0 277 000              1   \n",
       "25126                        000              6   \n",
       "12959  0002 001 00217 000 0 0001              1   \n",
       "20287  0002 001 00217 000 0 0001              1   \n",
       "31344  0002 001 00217 000 0 0001              1   \n",
       "4731   0002 001 00217 000 0 0001              2   \n",
       "4733   0002 001 00217 000 0 0001              2   \n",
       "29550  0002 001 00217 000 0 0001              2   \n",
       "50987  0002 001 00217 000 0 0001              2   \n",
       "19928  0002 001 00217 000 0 0001              3   \n",
       "33127  0002 001 00217 000 0 0001              1   \n",
       "18154  0002 001 00217 000 0 0001              2   \n",
       "27658  0002 001 00217 000 0 0001              1   \n",
       "19295  0002 001 00217 000 0 0001              1   \n",
       "36282  0002 001 00217 000 0 0001              2   \n",
       "2470   0002 001 00217 000 0 0001              2   \n",
       "1309   0002 001 00217 000 0 0001              3   \n",
       "54595  0002 001 00217 000 0 0001              2   \n",
       "42384  0002 001 00217 000 0 0001              1   \n",
       "51003  0002 001 00217 000 0 0001              1   \n",
       "51926  0002 001 00217 000 0 0001             12   \n",
       "32441  0002 001 00217 000 0 0001              1   \n",
       "11997  0002 001 00217 000 0 0001              1   \n",
       "52759  0002 001 00217 000 0 0001              5   \n",
       "16646                   00stkamp              9   \n",
       "47623                   00stkamp              5   \n",
       "46923                   00stkamp              2   \n",
       "46901                   00stkamp              2   \n",
       "47458                   00stkamp              6   \n",
       "...                          ...            ...   \n",
       "42758                    zwaluwe              6   \n",
       "2318                zwangssoldat              1   \n",
       "2317                zwangssoldat              1   \n",
       "20674                zwarte dood              1   \n",
       "36793               zwartzusters              1   \n",
       "20367                zwijndrecht              1   \n",
       "14951                zwijndrecht              1   \n",
       "48037                zwijndrecht              2   \n",
       "48036                zwijndrecht              2   \n",
       "46313                zwijndrecht              6   \n",
       "19988                zwijndrecht              1   \n",
       "24416                zwijndrecht              3   \n",
       "3545                 zwijndrecht              1   \n",
       "20445                zwijndrecht              6   \n",
       "43744                zwijndrecht              3   \n",
       "28448                zwijndrecht              1   \n",
       "43746                zwijndrecht              1   \n",
       "3792                 zwijndrecht              6   \n",
       "2415                 zwijndrecht              1   \n",
       "18312                  zwijnland              2   \n",
       "53918                  zwijnland              4   \n",
       "1469                   zwijnland              3   \n",
       "24216                  zwijnland              2   \n",
       "43103                  zwijnland              2   \n",
       "24765                  zwijnland              3   \n",
       "17658                  zwijnland              2   \n",
       "37397                  zwijnland              2   \n",
       "9273                   zwijnland              1   \n",
       "18511                  zwijnland              1   \n",
       "51080                  zwzvzzele              1   \n",
       "\n",
       "                   normalised_zoekterm  visitID  \n",
       "43539                           0 0137  1566570  \n",
       "16541                        0 277 000   999074  \n",
       "25126                              000  1170617  \n",
       "12959        0500 000 02531 000 0 0003   923985  \n",
       "20287        0001 072 00007 000 0 0003  1074043  \n",
       "31344        0500 000 02358 000 0 0001  1297143  \n",
       "4731         0001 078 00004 000 0 0002   752123  \n",
       "4733       0500 000 02190 000 0 0001 r   752201  \n",
       "29550        0001 132 00003 000 0 0001  1261297  \n",
       "50987        0001 040 00001 000 0 0001  1735044  \n",
       "19928        0236 000 01070 000 0 0452  1068852  \n",
       "33127  513 9000 000 01241 000 0 0002 r  1339269  \n",
       "18154      0900 000 00110 000 0 0203 r  1031264  \n",
       "27658        6000 000 00036 000 0 0001  1220974  \n",
       "19295         5 000 00 00420 000b 0161  1055588  \n",
       "36282        0698 000 01006 000 0 0001  1411417  \n",
       "2470         9000 000 01378 000 0 0001   704985  \n",
       "1309       0269 000 00001 000 b 0001 r   679498  \n",
       "54595    510 0002 000 01256 000 0 0001  1815037  \n",
       "42384        0002 001 00217 000 0 0001  1542355  \n",
       "51003      5000 000 00601 000 0 0114 a  1735259  \n",
       "51926         0308 000 00009 000 r 001  1756426  \n",
       "32441        0394 000 00609 000 0 0500  1322273  \n",
       "11997       0 500 000 01021 000 0 0001   905055  \n",
       "52759      0500 000 01211 000 0 0001 r  1773691  \n",
       "16646                         oostkamp  1001064  \n",
       "47623                         oostkamp  1662312  \n",
       "46923                         oostkamp  1643557  \n",
       "46901                         oostkamp  1642980  \n",
       "47458                         oostkamp  1658177  \n",
       "...                                ...      ...  \n",
       "42758                          zwaluwe  1550368  \n",
       "2318                    zwangssoldaten   701691  \n",
       "2317                      zwangssoldat   701691  \n",
       "20674                      zwarte dood  1081274  \n",
       "36793                     zwartzusters  1422187  \n",
       "20367                       zwijnaarde  1075361  \n",
       "14951                            zijde   964497  \n",
       "48037          zwijndrecht kapelstraat  1671348  \n",
       "48036                      zwijndrecht  1671348  \n",
       "46313                      zwijndrecht  1627800  \n",
       "19988                       zwijnaarde  1069700  \n",
       "24416                      zwijndrecht  1157993  \n",
       "3545                       zwijndrecht   728117  \n",
       "20445                       zwijnaarde  1076798  \n",
       "43744                   su zwinjdrecht  1570175  \n",
       "28448                      zwijndrecht  1239027  \n",
       "43746                      zwinjdrecht  1570175  \n",
       "3792                       zwijndrecht   732849  \n",
       "2415                        zwijnaarde   703301  \n",
       "18312                         wijnants  1034836  \n",
       "53918                           winand  1800653  \n",
       "1469                          wijnants   683622  \n",
       "24216                         wijnants  1153881  \n",
       "43103                             zwin  1557487  \n",
       "24765                           winand  1164138  \n",
       "17658                         wijnants  1021126  \n",
       "37397                             zwin  1434744  \n",
       "9273                         zwijnland   850430  \n",
       "18511                             zwin  1039214  \n",
       "51080                        zwzvzzele  1736770  \n",
       "\n",
       "[54694 rows x 4 columns]"
      ]
     },
     "execution_count": 178,
     "metadata": {},
     "output_type": "execute_result"
    }
   ],
   "source": [
    "d.sort_values(by='cluster')"
   ]
  },
  {
   "cell_type": "code",
   "execution_count": 179,
   "metadata": {
    "collapsed": true
   },
   "outputs": [],
   "source": [
    "d.to_csv('output/7_clusterDataReconciliation.csv')"
   ]
  }
 ],
 "metadata": {
  "kernelspec": {
   "display_name": "Python 3",
   "language": "python",
   "name": "python3"
  },
  "language_info": {
   "codemirror_mode": {
    "name": "ipython",
    "version": 3
   },
   "file_extension": ".py",
   "mimetype": "text/x-python",
   "name": "python",
   "nbconvert_exporter": "python",
   "pygments_lexer": "ipython3",
   "version": "3.5.1"
  }
 },
 "nbformat": 4,
 "nbformat_minor": 0
}
